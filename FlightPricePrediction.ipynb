{
 "cells": [
  {
   "cell_type": "code",
   "execution_count": 17,
   "metadata": {},
   "outputs": [],
   "source": [
    "import numpy as np\n",
    "import pandas as pd\n",
    "import matplotlib.pyplot as plt\n",
    "import seaborn as sns\n",
    "import plotly.express as px\n",
    "from sklearn.preprocessing import LabelEncoder\n",
    "import multiprocessing as mp\n",
    "from sklearn.model_selection import train_test_split\n",
    "from sklearn.linear_model import LinearRegression\n",
    "from sklearn.metrics import mean_squared_error, r2_score"
   ]
  },
  {
   "cell_type": "code",
   "execution_count": 18,
   "metadata": {},
   "outputs": [],
   "source": [
    "df = pd.read_csv(R'C:/Users/yigit/OneDrive/Belgeler/GitHub/FlightPricePrediction/FlightPricePrediction.csv')\n",
    "\n"
   ]
  },
  {
   "cell_type": "code",
   "execution_count": 19,
   "metadata": {},
   "outputs": [
    {
     "data": {
      "text/html": [
       "<div>\n",
       "<style scoped>\n",
       "    .dataframe tbody tr th:only-of-type {\n",
       "        vertical-align: middle;\n",
       "    }\n",
       "\n",
       "    .dataframe tbody tr th {\n",
       "        vertical-align: top;\n",
       "    }\n",
       "\n",
       "    .dataframe thead th {\n",
       "        text-align: right;\n",
       "    }\n",
       "</style>\n",
       "<table border=\"1\" class=\"dataframe\">\n",
       "  <thead>\n",
       "    <tr style=\"text-align: right;\">\n",
       "      <th></th>\n",
       "      <th>Unnamed: 0</th>\n",
       "      <th>airline</th>\n",
       "      <th>flight</th>\n",
       "      <th>source_city</th>\n",
       "      <th>departure_time</th>\n",
       "      <th>stops</th>\n",
       "      <th>arrival_time</th>\n",
       "      <th>destination_city</th>\n",
       "      <th>class</th>\n",
       "      <th>duration</th>\n",
       "      <th>days_left</th>\n",
       "      <th>price</th>\n",
       "    </tr>\n",
       "  </thead>\n",
       "  <tbody>\n",
       "    <tr>\n",
       "      <th>0</th>\n",
       "      <td>0</td>\n",
       "      <td>SpiceJet</td>\n",
       "      <td>SG-8709</td>\n",
       "      <td>Delhi</td>\n",
       "      <td>Evening</td>\n",
       "      <td>zero</td>\n",
       "      <td>Night</td>\n",
       "      <td>Mumbai</td>\n",
       "      <td>Economy</td>\n",
       "      <td>2.17</td>\n",
       "      <td>1</td>\n",
       "      <td>5953</td>\n",
       "    </tr>\n",
       "    <tr>\n",
       "      <th>1</th>\n",
       "      <td>1</td>\n",
       "      <td>SpiceJet</td>\n",
       "      <td>SG-8157</td>\n",
       "      <td>Delhi</td>\n",
       "      <td>Early_Morning</td>\n",
       "      <td>zero</td>\n",
       "      <td>Morning</td>\n",
       "      <td>Mumbai</td>\n",
       "      <td>Economy</td>\n",
       "      <td>2.33</td>\n",
       "      <td>1</td>\n",
       "      <td>5953</td>\n",
       "    </tr>\n",
       "    <tr>\n",
       "      <th>2</th>\n",
       "      <td>2</td>\n",
       "      <td>AirAsia</td>\n",
       "      <td>I5-764</td>\n",
       "      <td>Delhi</td>\n",
       "      <td>Early_Morning</td>\n",
       "      <td>zero</td>\n",
       "      <td>Early_Morning</td>\n",
       "      <td>Mumbai</td>\n",
       "      <td>Economy</td>\n",
       "      <td>2.17</td>\n",
       "      <td>1</td>\n",
       "      <td>5956</td>\n",
       "    </tr>\n",
       "    <tr>\n",
       "      <th>3</th>\n",
       "      <td>3</td>\n",
       "      <td>Vistara</td>\n",
       "      <td>UK-995</td>\n",
       "      <td>Delhi</td>\n",
       "      <td>Morning</td>\n",
       "      <td>zero</td>\n",
       "      <td>Afternoon</td>\n",
       "      <td>Mumbai</td>\n",
       "      <td>Economy</td>\n",
       "      <td>2.25</td>\n",
       "      <td>1</td>\n",
       "      <td>5955</td>\n",
       "    </tr>\n",
       "    <tr>\n",
       "      <th>4</th>\n",
       "      <td>4</td>\n",
       "      <td>Vistara</td>\n",
       "      <td>UK-963</td>\n",
       "      <td>Delhi</td>\n",
       "      <td>Morning</td>\n",
       "      <td>zero</td>\n",
       "      <td>Morning</td>\n",
       "      <td>Mumbai</td>\n",
       "      <td>Economy</td>\n",
       "      <td>2.33</td>\n",
       "      <td>1</td>\n",
       "      <td>5955</td>\n",
       "    </tr>\n",
       "    <tr>\n",
       "      <th>...</th>\n",
       "      <td>...</td>\n",
       "      <td>...</td>\n",
       "      <td>...</td>\n",
       "      <td>...</td>\n",
       "      <td>...</td>\n",
       "      <td>...</td>\n",
       "      <td>...</td>\n",
       "      <td>...</td>\n",
       "      <td>...</td>\n",
       "      <td>...</td>\n",
       "      <td>...</td>\n",
       "      <td>...</td>\n",
       "    </tr>\n",
       "    <tr>\n",
       "      <th>300148</th>\n",
       "      <td>300148</td>\n",
       "      <td>Vistara</td>\n",
       "      <td>UK-822</td>\n",
       "      <td>Chennai</td>\n",
       "      <td>Morning</td>\n",
       "      <td>one</td>\n",
       "      <td>Evening</td>\n",
       "      <td>Hyderabad</td>\n",
       "      <td>Business</td>\n",
       "      <td>10.08</td>\n",
       "      <td>49</td>\n",
       "      <td>69265</td>\n",
       "    </tr>\n",
       "    <tr>\n",
       "      <th>300149</th>\n",
       "      <td>300149</td>\n",
       "      <td>Vistara</td>\n",
       "      <td>UK-826</td>\n",
       "      <td>Chennai</td>\n",
       "      <td>Afternoon</td>\n",
       "      <td>one</td>\n",
       "      <td>Night</td>\n",
       "      <td>Hyderabad</td>\n",
       "      <td>Business</td>\n",
       "      <td>10.42</td>\n",
       "      <td>49</td>\n",
       "      <td>77105</td>\n",
       "    </tr>\n",
       "    <tr>\n",
       "      <th>300150</th>\n",
       "      <td>300150</td>\n",
       "      <td>Vistara</td>\n",
       "      <td>UK-832</td>\n",
       "      <td>Chennai</td>\n",
       "      <td>Early_Morning</td>\n",
       "      <td>one</td>\n",
       "      <td>Night</td>\n",
       "      <td>Hyderabad</td>\n",
       "      <td>Business</td>\n",
       "      <td>13.83</td>\n",
       "      <td>49</td>\n",
       "      <td>79099</td>\n",
       "    </tr>\n",
       "    <tr>\n",
       "      <th>300151</th>\n",
       "      <td>300151</td>\n",
       "      <td>Vistara</td>\n",
       "      <td>UK-828</td>\n",
       "      <td>Chennai</td>\n",
       "      <td>Early_Morning</td>\n",
       "      <td>one</td>\n",
       "      <td>Evening</td>\n",
       "      <td>Hyderabad</td>\n",
       "      <td>Business</td>\n",
       "      <td>10.00</td>\n",
       "      <td>49</td>\n",
       "      <td>81585</td>\n",
       "    </tr>\n",
       "    <tr>\n",
       "      <th>300152</th>\n",
       "      <td>300152</td>\n",
       "      <td>Vistara</td>\n",
       "      <td>UK-822</td>\n",
       "      <td>Chennai</td>\n",
       "      <td>Morning</td>\n",
       "      <td>one</td>\n",
       "      <td>Evening</td>\n",
       "      <td>Hyderabad</td>\n",
       "      <td>Business</td>\n",
       "      <td>10.08</td>\n",
       "      <td>49</td>\n",
       "      <td>81585</td>\n",
       "    </tr>\n",
       "  </tbody>\n",
       "</table>\n",
       "<p>300153 rows × 12 columns</p>\n",
       "</div>"
      ],
      "text/plain": [
       "        Unnamed: 0   airline   flight source_city departure_time stops  \\\n",
       "0                0  SpiceJet  SG-8709       Delhi        Evening  zero   \n",
       "1                1  SpiceJet  SG-8157       Delhi  Early_Morning  zero   \n",
       "2                2   AirAsia   I5-764       Delhi  Early_Morning  zero   \n",
       "3                3   Vistara   UK-995       Delhi        Morning  zero   \n",
       "4                4   Vistara   UK-963       Delhi        Morning  zero   \n",
       "...            ...       ...      ...         ...            ...   ...   \n",
       "300148      300148   Vistara   UK-822     Chennai        Morning   one   \n",
       "300149      300149   Vistara   UK-826     Chennai      Afternoon   one   \n",
       "300150      300150   Vistara   UK-832     Chennai  Early_Morning   one   \n",
       "300151      300151   Vistara   UK-828     Chennai  Early_Morning   one   \n",
       "300152      300152   Vistara   UK-822     Chennai        Morning   one   \n",
       "\n",
       "         arrival_time destination_city     class  duration  days_left  price  \n",
       "0               Night           Mumbai   Economy      2.17          1   5953  \n",
       "1             Morning           Mumbai   Economy      2.33          1   5953  \n",
       "2       Early_Morning           Mumbai   Economy      2.17          1   5956  \n",
       "3           Afternoon           Mumbai   Economy      2.25          1   5955  \n",
       "4             Morning           Mumbai   Economy      2.33          1   5955  \n",
       "...               ...              ...       ...       ...        ...    ...  \n",
       "300148        Evening        Hyderabad  Business     10.08         49  69265  \n",
       "300149          Night        Hyderabad  Business     10.42         49  77105  \n",
       "300150          Night        Hyderabad  Business     13.83         49  79099  \n",
       "300151        Evening        Hyderabad  Business     10.00         49  81585  \n",
       "300152        Evening        Hyderabad  Business     10.08         49  81585  \n",
       "\n",
       "[300153 rows x 12 columns]"
      ]
     },
     "execution_count": 19,
     "metadata": {},
     "output_type": "execute_result"
    }
   ],
   "source": [
    "df"
   ]
  },
  {
   "cell_type": "markdown",
   "metadata": {},
   "source": [
    "Flight Number: Sayısal indeks veya satır numarası.\n",
    "\n",
    "airline: Havayolu şirketi adı (örn. \"SpiceJet\" veya \"AirAsia\").\n",
    "\n",
    "flight: Uçuş numarası veya kodu (örn. \"SG-8709\" veya \"I5-764\").\n",
    "\n",
    "source_city: Kalkış şehri (örn. \"Delhi\").\n",
    "\n",
    "departure_time: Kalkış zamanı (örn. \"Evening\" veya \"Early_Morning\").\n",
    "\n",
    "stops: Uçuşta yapılan duraklama sayısı veya \"zero\" (duraksız uçuşlar için).\n",
    "\n",
    "arrival_time: Varış zamanı (örn. \"Night\" veya \"Morning\").\n",
    "\n",
    "destination_city: Varış şehri (örn. \"Mumbai\").\n",
    "\n",
    "class: Uçuş sınıfı (örn. \"Economy\").\n",
    "\n",
    "duration: Uçuş süresi (örn. 2.17 saat).\n",
    "\n",
    "days_left: Uçuşa kaç gün kaldığı bilgisi (örn. 1 gün).\n",
    "\n",
    "price: Uçuşun fiyatı (örn. 5953)."
   ]
  },
  {
   "cell_type": "code",
   "execution_count": 20,
   "metadata": {},
   "outputs": [
    {
     "data": {
      "text/plain": [
       "Index(['Unnamed: 0', 'airline', 'flight', 'source_city', 'departure_time',\n",
       "       'stops', 'arrival_time', 'destination_city', 'class', 'duration',\n",
       "       'days_left', 'price'],\n",
       "      dtype='object')"
      ]
     },
     "execution_count": 20,
     "metadata": {},
     "output_type": "execute_result"
    }
   ],
   "source": [
    "df.columns"
   ]
  },
  {
   "cell_type": "code",
   "execution_count": 21,
   "metadata": {},
   "outputs": [
    {
     "data": {
      "text/plain": [
       "(300153, 12)"
      ]
     },
     "execution_count": 21,
     "metadata": {},
     "output_type": "execute_result"
    }
   ],
   "source": [
    "df.shape"
   ]
  },
  {
   "cell_type": "code",
   "execution_count": 22,
   "metadata": {},
   "outputs": [
    {
     "data": {
      "text/plain": [
       "Unnamed: 0            int64\n",
       "airline              object\n",
       "flight               object\n",
       "source_city          object\n",
       "departure_time       object\n",
       "stops                object\n",
       "arrival_time         object\n",
       "destination_city     object\n",
       "class                object\n",
       "duration            float64\n",
       "days_left             int64\n",
       "price                 int64\n",
       "dtype: object"
      ]
     },
     "execution_count": 22,
     "metadata": {},
     "output_type": "execute_result"
    }
   ],
   "source": [
    "df.dtypes"
   ]
  },
  {
   "cell_type": "code",
   "execution_count": 23,
   "metadata": {},
   "outputs": [],
   "source": [
    "columns_to_drop = ['Unnamed: 0','arrival_time', 'days_left','departure_time','flight','duration']\n",
    "df = df.drop(columns=columns_to_drop)"
   ]
  },
  {
   "cell_type": "code",
   "execution_count": 24,
   "metadata": {},
   "outputs": [
    {
     "data": {
      "text/html": [
       "<div>\n",
       "<style scoped>\n",
       "    .dataframe tbody tr th:only-of-type {\n",
       "        vertical-align: middle;\n",
       "    }\n",
       "\n",
       "    .dataframe tbody tr th {\n",
       "        vertical-align: top;\n",
       "    }\n",
       "\n",
       "    .dataframe thead th {\n",
       "        text-align: right;\n",
       "    }\n",
       "</style>\n",
       "<table border=\"1\" class=\"dataframe\">\n",
       "  <thead>\n",
       "    <tr style=\"text-align: right;\">\n",
       "      <th></th>\n",
       "      <th>airline</th>\n",
       "      <th>source_city</th>\n",
       "      <th>stops</th>\n",
       "      <th>destination_city</th>\n",
       "      <th>class</th>\n",
       "      <th>price</th>\n",
       "    </tr>\n",
       "  </thead>\n",
       "  <tbody>\n",
       "    <tr>\n",
       "      <th>0</th>\n",
       "      <td>SpiceJet</td>\n",
       "      <td>Delhi</td>\n",
       "      <td>zero</td>\n",
       "      <td>Mumbai</td>\n",
       "      <td>Economy</td>\n",
       "      <td>5953</td>\n",
       "    </tr>\n",
       "    <tr>\n",
       "      <th>1</th>\n",
       "      <td>SpiceJet</td>\n",
       "      <td>Delhi</td>\n",
       "      <td>zero</td>\n",
       "      <td>Mumbai</td>\n",
       "      <td>Economy</td>\n",
       "      <td>5953</td>\n",
       "    </tr>\n",
       "    <tr>\n",
       "      <th>2</th>\n",
       "      <td>AirAsia</td>\n",
       "      <td>Delhi</td>\n",
       "      <td>zero</td>\n",
       "      <td>Mumbai</td>\n",
       "      <td>Economy</td>\n",
       "      <td>5956</td>\n",
       "    </tr>\n",
       "    <tr>\n",
       "      <th>3</th>\n",
       "      <td>Vistara</td>\n",
       "      <td>Delhi</td>\n",
       "      <td>zero</td>\n",
       "      <td>Mumbai</td>\n",
       "      <td>Economy</td>\n",
       "      <td>5955</td>\n",
       "    </tr>\n",
       "    <tr>\n",
       "      <th>4</th>\n",
       "      <td>Vistara</td>\n",
       "      <td>Delhi</td>\n",
       "      <td>zero</td>\n",
       "      <td>Mumbai</td>\n",
       "      <td>Economy</td>\n",
       "      <td>5955</td>\n",
       "    </tr>\n",
       "    <tr>\n",
       "      <th>...</th>\n",
       "      <td>...</td>\n",
       "      <td>...</td>\n",
       "      <td>...</td>\n",
       "      <td>...</td>\n",
       "      <td>...</td>\n",
       "      <td>...</td>\n",
       "    </tr>\n",
       "    <tr>\n",
       "      <th>95</th>\n",
       "      <td>Vistara</td>\n",
       "      <td>Delhi</td>\n",
       "      <td>one</td>\n",
       "      <td>Mumbai</td>\n",
       "      <td>Economy</td>\n",
       "      <td>17610</td>\n",
       "    </tr>\n",
       "    <tr>\n",
       "      <th>96</th>\n",
       "      <td>Air_India</td>\n",
       "      <td>Delhi</td>\n",
       "      <td>one</td>\n",
       "      <td>Mumbai</td>\n",
       "      <td>Economy</td>\n",
       "      <td>17295</td>\n",
       "    </tr>\n",
       "    <tr>\n",
       "      <th>97</th>\n",
       "      <td>Vistara</td>\n",
       "      <td>Delhi</td>\n",
       "      <td>one</td>\n",
       "      <td>Mumbai</td>\n",
       "      <td>Economy</td>\n",
       "      <td>17663</td>\n",
       "    </tr>\n",
       "    <tr>\n",
       "      <th>98</th>\n",
       "      <td>Air_India</td>\n",
       "      <td>Delhi</td>\n",
       "      <td>one</td>\n",
       "      <td>Mumbai</td>\n",
       "      <td>Economy</td>\n",
       "      <td>18030</td>\n",
       "    </tr>\n",
       "    <tr>\n",
       "      <th>99</th>\n",
       "      <td>Vistara</td>\n",
       "      <td>Delhi</td>\n",
       "      <td>one</td>\n",
       "      <td>Mumbai</td>\n",
       "      <td>Economy</td>\n",
       "      <td>18398</td>\n",
       "    </tr>\n",
       "  </tbody>\n",
       "</table>\n",
       "<p>100 rows × 6 columns</p>\n",
       "</div>"
      ],
      "text/plain": [
       "      airline source_city stops destination_city    class  price\n",
       "0    SpiceJet       Delhi  zero           Mumbai  Economy   5953\n",
       "1    SpiceJet       Delhi  zero           Mumbai  Economy   5953\n",
       "2     AirAsia       Delhi  zero           Mumbai  Economy   5956\n",
       "3     Vistara       Delhi  zero           Mumbai  Economy   5955\n",
       "4     Vistara       Delhi  zero           Mumbai  Economy   5955\n",
       "..        ...         ...   ...              ...      ...    ...\n",
       "95    Vistara       Delhi   one           Mumbai  Economy  17610\n",
       "96  Air_India       Delhi   one           Mumbai  Economy  17295\n",
       "97    Vistara       Delhi   one           Mumbai  Economy  17663\n",
       "98  Air_India       Delhi   one           Mumbai  Economy  18030\n",
       "99    Vistara       Delhi   one           Mumbai  Economy  18398\n",
       "\n",
       "[100 rows x 6 columns]"
      ]
     },
     "execution_count": 24,
     "metadata": {},
     "output_type": "execute_result"
    }
   ],
   "source": [
    "df.head(100)"
   ]
  },
  {
   "cell_type": "code",
   "execution_count": 25,
   "metadata": {},
   "outputs": [
    {
     "data": {
      "image/png": "[encoded data removed]",
      "text/plain": [
       "<Figure size 1200x600 with 1 Axes>"
      ]
     },
     "metadata": {},
     "output_type": "display_data"
    }
   ],
   "source": [
    "airline_count = df['airline'].value_counts()\n",
    "\n",
    "# Create the bar plot using Seaborn\n",
    "sns.set_style('whitegrid')\n",
    "plt.figure(figsize=(12, 6))  # Adjust the figure size as per your preference\n",
    "sns.barplot(x=airline_count.index, y=airline_count.values, palette='viridis')\n",
    "\n",
    "# Customize the plot\n",
    "plt.xlabel('Airline')\n",
    "plt.ylabel('Count')\n",
    "plt.title('Airline Count')\n",
    "plt.xticks(rotation=45)  # Rotate the x-axis labels for better readability\n",
    "\n",
    "\n",
    "plt.show()"
   ]
  },
  {
   "cell_type": "code",
   "execution_count": 26,
   "metadata": {},
   "outputs": [
    {
     "data": {
      "image/png": "[encoded data removed]",
      "text/plain": [
       "<Figure size 1000x1000 with 1 Axes>"
      ]
     },
     "metadata": {},
     "output_type": "display_data"
    }
   ],
   "source": [
    "\n",
    "# Create a new figure\n",
    "plt.figure(figsize=(10, 10))\n",
    "\n",
    "top_cities = df['source_city'].value_counts().head(10)\n",
    "\n",
    "# Create the pie chart\n",
    "colors = plt.cm.Paired(range(len(top_cities)))\n",
    "plt.pie(top_cities, labels=top_cities.index, colors=colors, autopct='%1.1f%%', startangle=90)\n",
    "\n",
    "# Set aspect ratio to be equal, so the pie chart appears circular\n",
    "plt.axis('equal')\n",
    "\n",
    "# Add a title to the chart\n",
    "plt.title('Number of Flights per Source City (Top 6)')\n",
    "\n",
    "plt.show()"
   ]
  },
  {
   "cell_type": "code",
   "execution_count": 27,
   "metadata": {},
   "outputs": [
    {
     "data": {
      "image/png": "[encoded data removed]",
      "text/plain": [
       "<Figure size 500x500 with 1 Axes>"
      ]
     },
     "metadata": {},
     "output_type": "display_data"
    },
    {
     "data": {
      "image/png": "[encoded data removed]",
      "text/plain": [
       "<Figure size 640x480 with 1 Axes>"
      ]
     },
     "metadata": {},
     "output_type": "display_data"
    },
    {
     "data": {
      "image/png": "[encoded data removed]",
      "text/plain": [
       "<Figure size 640x480 with 1 Axes>"
      ]
     },
     "metadata": {},
     "output_type": "display_data"
    },
    {
     "data": {
      "image/png": "[encoded data removed]",
      "text/plain": [
       "<Figure size 640x480 with 1 Axes>"
      ]
     },
     "metadata": {},
     "output_type": "display_data"
    },
    {
     "data": {
      "image/png": "[encoded data removed]",
      "text/plain": [
       "<Figure size 640x480 with 1 Axes>"
      ]
     },
     "metadata": {},
     "output_type": "display_data"
    },
    {
     "data": {
      "image/png": "[encoded data removed]",
      "text/plain": [
       "<Figure size 640x480 with 1 Axes>"
      ]
     },
     "metadata": {},
     "output_type": "display_data"
    }
   ],
   "source": [
    "\n",
    "\n",
    "\n",
    "\n",
    "# Get the unique source cities in the DataFrame\n",
    "source_cities = df['source_city'].unique()\n",
    "\n",
    "plt.figure(figsize=(5, 5))\n",
    "\n",
    "# Loop through each source city and create the pie chart for the distribution of flights among all airlines\n",
    "for city in source_cities:\n",
    "    selected_city_data = df[df['source_city'] == city]\n",
    "    airline_counts = selected_city_data['airline'].value_counts()\n",
    "\n",
    "    colors = plt.cm.Paired(range(len(airline_counts)))\n",
    "    plt.pie(airline_counts, labels=airline_counts.index, colors=colors, autopct='%1.1f%%', startangle=90)\n",
    "\n",
    "    # Set aspect ratio to be equal, so the pie chart appears circular\n",
    "    plt.axis('equal')\n",
    "\n",
    "    plt.title(f'Distribution of Flights in {city} by Airlines')\n",
    "\n",
    "    \n",
    "    plt.show()\n"
   ]
  },
  {
   "cell_type": "code",
   "execution_count": 28,
   "metadata": {},
   "outputs": [
    {
     "data": {
      "image/png": "[encoded data removed]",
      "text/plain": [
       "<Figure size 1000x600 with 1 Axes>"
      ]
     },
     "metadata": {},
     "output_type": "display_data"
    }
   ],
   "source": [
    "\n",
    "# Create a countplot to visualize the distribution of flights by 'class'\n",
    "plt.figure(figsize=(10, 6))\n",
    "sns.countplot(data=df, x='class', hue='source_city', palette='viridis')\n",
    "\n",
    "# Customize the plot\n",
    "plt.xlabel('Class')\n",
    "plt.ylabel('Count')\n",
    "plt.title('Distribution of Flights by Class and Source City')\n",
    "plt.legend(title='Source City', loc='upper right')\n",
    "\n",
    "\n",
    "plt.show()\n"
   ]
  },
  {
   "cell_type": "code",
   "execution_count": 29,
   "metadata": {},
   "outputs": [
    {
     "data": {
      "application/vnd.plotly.v1+json": {
       "config": {
        "plotlyServerURL": "https://plot.ly"
       },
       "data": [
        {
         "customdata": [
          [
           "Mumbai",
           "Kolkata"
          ],
          [
           "Hyderabad",
           "Delhi"
          ],
          [
           "Bangalore",
           "Delhi"
          ],
          [
           "Mumbai",
           "Chennai"
          ],
          [
           "Mumbai",
           "Delhi"
          ],
          [
           "Chennai",
           "Hyderabad"
          ],
          [
           "Bangalore",
           "Delhi"
          ],
          [
           "Bangalore",
           "Mumbai"
          ],
          [
           "Hyderabad",
           "Delhi"
          ],
          [
           "Bangalore",
           "Hyderabad"
          ],
          [
           "Mumbai",
           "Chennai"
          ],
          [
           "Bangalore",
           "Kolkata"
          ],
          [
           "Mumbai",
           "Kolkata"
          ],
          [
           "Chennai",
           "Mumbai"
          ],
          [
           "Bangalore",
           "Kolkata"
          ],
          [
           "Chennai",
           "Delhi"
          ],
          [
           "Hyderabad",
           "Chennai"
          ],
          [
           "Delhi",
           "Kolkata"
          ],
          [
           "Delhi",
           "Mumbai"
          ],
          [
           "Hyderabad",
           "Bangalore"
          ],
          [
           "Mumbai",
           "Hyderabad"
          ],
          [
           "Hyderabad",
           "Mumbai"
          ],
          [
           "Chennai",
           "Delhi"
          ],
          [
           "Delhi",
           "Mumbai"
          ],
          [
           "Mumbai",
           "Bangalore"
          ],
          [
           "Hyderabad",
           "Kolkata"
          ],
          [
           "Mumbai",
           "Hyderabad"
          ],
          [
           "Bangalore",
           "Hyderabad"
          ],
          [
           "Mumbai",
           "Delhi"
          ],
          [
           "Kolkata",
           "Hyderabad"
          ],
          [
           "Hyderabad",
           "Mumbai"
          ],
          [
           "Delhi",
           "Mumbai"
          ],
          [
           "Mumbai",
           "Bangalore"
          ],
          [
           "Bangalore",
           "Kolkata"
          ],
          [
           "Mumbai",
           "Bangalore"
          ],
          [
           "Delhi",
           "Bangalore"
          ],
          [
           "Mumbai",
           "Bangalore"
          ],
          [
           "Mumbai",
           "Delhi"
          ],
          [
           "Bangalore",
           "Chennai"
          ],
          [
           "Bangalore",
           "Delhi"
          ],
          [
           "Bangalore",
           "Chennai"
          ],
          [
           "Hyderabad",
           "Delhi"
          ],
          [
           "Chennai",
           "Bangalore"
          ],
          [
           "Bangalore",
           "Delhi"
          ],
          [
           "Bangalore",
           "Kolkata"
          ],
          [
           "Chennai",
           "Mumbai"
          ],
          [
           "Delhi",
           "Hyderabad"
          ],
          [
           "Mumbai",
           "Hyderabad"
          ],
          [
           "Bangalore",
           "Hyderabad"
          ],
          [
           "Chennai",
           "Mumbai"
          ],
          [
           "Mumbai",
           "Bangalore"
          ],
          [
           "Hyderabad",
           "Kolkata"
          ],
          [
           "Kolkata",
           "Hyderabad"
          ],
          [
           "Kolkata",
           "Mumbai"
          ],
          [
           "Chennai",
           "Hyderabad"
          ],
          [
           "Delhi",
           "Mumbai"
          ],
          [
           "Bangalore",
           "Hyderabad"
          ],
          [
           "Kolkata",
           "Bangalore"
          ],
          [
           "Chennai",
           "Bangalore"
          ],
          [
           "Bangalore",
           "Mumbai"
          ],
          [
           "Hyderabad",
           "Mumbai"
          ],
          [
           "Hyderabad",
           "Mumbai"
          ],
          [
           "Bangalore",
           "Chennai"
          ],
          [
           "Delhi",
           "Hyderabad"
          ],
          [
           "Kolkata",
           "Chennai"
          ],
          [
           "Chennai",
           "Hyderabad"
          ],
          [
           "Bangalore",
           "Hyderabad"
          ],
          [
           "Hyderabad",
           "Delhi"
          ],
          [
           "Delhi",
           "Kolkata"
          ],
          [
           "Delhi",
           "Hyderabad"
          ],
          [
           "Mumbai",
           "Hyderabad"
          ],
          [
           "Mumbai",
           "Chennai"
          ],
          [
           "Delhi",
           "Mumbai"
          ],
          [
           "Bangalore",
           "Mumbai"
          ],
          [
           "Chennai",
           "Hyderabad"
          ],
          [
           "Hyderabad",
           "Bangalore"
          ],
          [
           "Hyderabad",
           "Mumbai"
          ],
          [
           "Chennai",
           "Hyderabad"
          ],
          [
           "Chennai",
           "Mumbai"
          ],
          [
           "Chennai",
           "Delhi"
          ],
          [
           "Delhi",
           "Mumbai"
          ],
          [
           "Bangalore",
           "Hyderabad"
          ],
          [
           "Hyderabad",
           "Mumbai"
          ],
          [
           "Delhi",
           "Hyderabad"
          ],
          [
           "Chennai",
           "Hyderabad"
          ],
          [
           "Delhi",
           "Kolkata"
          ],
          [
           "Bangalore",
           "Kolkata"
          ],
          [
           "Bangalore",
           "Kolkata"
          ],
          [
           "Chennai",
           "Hyderabad"
          ],
          [
           "Bangalore",
           "Mumbai"
          ],
          [
           "Kolkata",
           "Mumbai"
          ],
          [
           "Mumbai",
           "Bangalore"
          ],
          [
           "Bangalore",
           "Hyderabad"
          ],
          [
           "Bangalore",
           "Hyderabad"
          ],
          [
           "Bangalore",
           "Hyderabad"
          ],
          [
           "Mumbai",
           "Delhi"
          ],
          [
           "Delhi",
           "Hyderabad"
          ],
          [
           "Chennai",
           "Hyderabad"
          ],
          [
           "Hyderabad",
           "Delhi"
          ],
          [
           "Kolkata",
           "Delhi"
          ],
          [
           "Bangalore",
           "Chennai"
          ],
          [
           "Bangalore",
           "Chennai"
          ],
          [
           "Bangalore",
           "Delhi"
          ],
          [
           "Chennai",
           "Mumbai"
          ],
          [
           "Bangalore",
           "Kolkata"
          ],
          [
           "Hyderabad",
           "Bangalore"
          ],
          [
           "Bangalore",
           "Chennai"
          ],
          [
           "Bangalore",
           "Chennai"
          ],
          [
           "Kolkata",
           "Delhi"
          ],
          [
           "Delhi",
           "Hyderabad"
          ],
          [
           "Bangalore",
           "Mumbai"
          ],
          [
           "Bangalore",
           "Delhi"
          ],
          [
           "Bangalore",
           "Kolkata"
          ],
          [
           "Chennai",
           "Bangalore"
          ],
          [
           "Hyderabad",
           "Delhi"
          ],
          [
           "Mumbai",
           "Bangalore"
          ],
          [
           "Chennai",
           "Bangalore"
          ],
          [
           "Hyderabad",
           "Bangalore"
          ],
          [
           "Delhi",
           "Mumbai"
          ],
          [
           "Mumbai",
           "Bangalore"
          ],
          [
           "Bangalore",
           "Mumbai"
          ],
          [
           "Mumbai",
           "Bangalore"
          ],
          [
           "Chennai",
           "Kolkata"
          ],
          [
           "Bangalore",
           "Mumbai"
          ],
          [
           "Mumbai",
           "Delhi"
          ],
          [
           "Bangalore",
           "Chennai"
          ],
          [
           "Delhi",
           "Mumbai"
          ],
          [
           "Kolkata",
           "Mumbai"
          ],
          [
           "Bangalore",
           "Kolkata"
          ],
          [
           "Bangalore",
           "Hyderabad"
          ],
          [
           "Hyderabad",
           "Mumbai"
          ],
          [
           "Delhi",
           "Mumbai"
          ],
          [
           "Kolkata",
           "Bangalore"
          ],
          [
           "Bangalore",
           "Mumbai"
          ],
          [
           "Kolkata",
           "Mumbai"
          ],
          [
           "Kolkata",
           "Mumbai"
          ],
          [
           "Delhi",
           "Chennai"
          ],
          [
           "Bangalore",
           "Mumbai"
          ],
          [
           "Mumbai",
           "Bangalore"
          ],
          [
           "Chennai",
           "Bangalore"
          ],
          [
           "Bangalore",
           "Delhi"
          ],
          [
           "Kolkata",
           "Hyderabad"
          ],
          [
           "Bangalore",
           "Hyderabad"
          ],
          [
           "Mumbai",
           "Delhi"
          ],
          [
           "Mumbai",
           "Bangalore"
          ],
          [
           "Delhi",
           "Bangalore"
          ],
          [
           "Bangalore",
           "Kolkata"
          ],
          [
           "Mumbai",
           "Hyderabad"
          ],
          [
           "Mumbai",
           "Hyderabad"
          ],
          [
           "Kolkata",
           "Bangalore"
          ],
          [
           "Delhi",
           "Mumbai"
          ],
          [
           "Kolkata",
           "Hyderabad"
          ],
          [
           "Chennai",
           "Hyderabad"
          ],
          [
           "Hyderabad",
           "Delhi"
          ],
          [
           "Mumbai",
           "Bangalore"
          ],
          [
           "Delhi",
           "Kolkata"
          ],
          [
           "Chennai",
           "Bangalore"
          ],
          [
           "Bangalore",
           "Mumbai"
          ],
          [
           "Chennai",
           "Bangalore"
          ],
          [
           "Hyderabad",
           "Kolkata"
          ],
          [
           "Delhi",
           "Hyderabad"
          ],
          [
           "Kolkata",
           "Bangalore"
          ],
          [
           "Hyderabad",
           "Chennai"
          ],
          [
           "Mumbai",
           "Hyderabad"
          ],
          [
           "Hyderabad",
           "Mumbai"
          ],
          [
           "Delhi",
           "Chennai"
          ],
          [
           "Mumbai",
           "Kolkata"
          ],
          [
           "Bangalore",
           "Chennai"
          ],
          [
           "Bangalore",
           "Delhi"
          ],
          [
           "Bangalore",
           "Mumbai"
          ],
          [
           "Bangalore",
           "Hyderabad"
          ],
          [
           "Mumbai",
           "Delhi"
          ],
          [
           "Hyderabad",
           "Chennai"
          ],
          [
           "Bangalore",
           "Chennai"
          ],
          [
           "Hyderabad",
           "Kolkata"
          ],
          [
           "Delhi",
           "Mumbai"
          ],
          [
           "Bangalore",
           "Kolkata"
          ],
          [
           "Kolkata",
           "Chennai"
          ],
          [
           "Chennai",
           "Kolkata"
          ],
          [
           "Hyderabad",
           "Bangalore"
          ],
          [
           "Chennai",
           "Kolkata"
          ],
          [
           "Delhi",
           "Kolkata"
          ],
          [
           "Delhi",
           "Hyderabad"
          ],
          [
           "Bangalore",
           "Kolkata"
          ],
          [
           "Delhi",
           "Bangalore"
          ],
          [
           "Kolkata",
           "Chennai"
          ],
          [
           "Delhi",
           "Hyderabad"
          ],
          [
           "Bangalore",
           "Mumbai"
          ],
          [
           "Hyderabad",
           "Mumbai"
          ],
          [
           "Kolkata",
           "Chennai"
          ],
          [
           "Chennai",
           "Mumbai"
          ],
          [
           "Kolkata",
           "Hyderabad"
          ],
          [
           "Mumbai",
           "Bangalore"
          ],
          [
           "Hyderabad",
           "Bangalore"
          ],
          [
           "Delhi",
           "Kolkata"
          ],
          [
           "Bangalore",
           "Chennai"
          ],
          [
           "Bangalore",
           "Delhi"
          ],
          [
           "Delhi",
           "Kolkata"
          ],
          [
           "Kolkata",
           "Mumbai"
          ],
          [
           "Chennai",
           "Kolkata"
          ],
          [
           "Mumbai",
           "Bangalore"
          ],
          [
           "Hyderabad",
           "Mumbai"
          ],
          [
           "Mumbai",
           "Delhi"
          ],
          [
           "Mumbai",
           "Bangalore"
          ],
          [
           "Chennai",
           "Delhi"
          ],
          [
           "Hyderabad",
           "Chennai"
          ],
          [
           "Mumbai",
           "Kolkata"
          ],
          [
           "Delhi",
           "Bangalore"
          ],
          [
           "Delhi",
           "Mumbai"
          ],
          [
           "Kolkata",
           "Bangalore"
          ],
          [
           "Hyderabad",
           "Chennai"
          ],
          [
           "Delhi",
           "Bangalore"
          ],
          [
           "Mumbai",
           "Bangalore"
          ],
          [
           "Delhi",
           "Mumbai"
          ],
          [
           "Mumbai",
           "Chennai"
          ],
          [
           "Mumbai",
           "Delhi"
          ],
          [
           "Delhi",
           "Kolkata"
          ],
          [
           "Bangalore",
           "Delhi"
          ],
          [
           "Hyderabad",
           "Kolkata"
          ],
          [
           "Mumbai",
           "Chennai"
          ],
          [
           "Mumbai",
           "Delhi"
          ],
          [
           "Bangalore",
           "Delhi"
          ],
          [
           "Delhi",
           "Mumbai"
          ],
          [
           "Bangalore",
           "Hyderabad"
          ],
          [
           "Chennai",
           "Mumbai"
          ],
          [
           "Hyderabad",
           "Kolkata"
          ],
          [
           "Mumbai",
           "Hyderabad"
          ],
          [
           "Hyderabad",
           "Bangalore"
          ],
          [
           "Kolkata",
           "Chennai"
          ],
          [
           "Delhi",
           "Bangalore"
          ],
          [
           "Hyderabad",
           "Delhi"
          ],
          [
           "Hyderabad",
           "Delhi"
          ],
          [
           "Mumbai",
           "Chennai"
          ],
          [
           "Hyderabad",
           "Delhi"
          ],
          [
           "Bangalore",
           "Kolkata"
          ],
          [
           "Hyderabad",
           "Bangalore"
          ],
          [
           "Hyderabad",
           "Delhi"
          ],
          [
           "Bangalore",
           "Chennai"
          ],
          [
           "Hyderabad",
           "Bangalore"
          ],
          [
           "Delhi",
           "Bangalore"
          ],
          [
           "Chennai",
           "Hyderabad"
          ],
          [
           "Bangalore",
           "Kolkata"
          ],
          [
           "Mumbai",
           "Chennai"
          ],
          [
           "Hyderabad",
           "Delhi"
          ],
          [
           "Kolkata",
           "Chennai"
          ],
          [
           "Bangalore",
           "Delhi"
          ],
          [
           "Kolkata",
           "Delhi"
          ],
          [
           "Chennai",
           "Hyderabad"
          ],
          [
           "Delhi",
           "Chennai"
          ],
          [
           "Chennai",
           "Kolkata"
          ],
          [
           "Delhi",
           "Kolkata"
          ],
          [
           "Chennai",
           "Hyderabad"
          ],
          [
           "Kolkata",
           "Hyderabad"
          ],
          [
           "Bangalore",
           "Hyderabad"
          ],
          [
           "Delhi",
           "Bangalore"
          ],
          [
           "Hyderabad",
           "Chennai"
          ],
          [
           "Bangalore",
           "Chennai"
          ],
          [
           "Mumbai",
           "Delhi"
          ],
          [
           "Bangalore",
           "Chennai"
          ],
          [
           "Hyderabad",
           "Mumbai"
          ],
          [
           "Hyderabad",
           "Kolkata"
          ],
          [
           "Mumbai",
           "Delhi"
          ],
          [
           "Kolkata",
           "Hyderabad"
          ],
          [
           "Hyderabad",
           "Chennai"
          ],
          [
           "Bangalore",
           "Kolkata"
          ],
          [
           "Bangalore",
           "Kolkata"
          ],
          [
           "Hyderabad",
           "Mumbai"
          ],
          [
           "Bangalore",
           "Delhi"
          ],
          [
           "Bangalore",
           "Delhi"
          ],
          [
           "Bangalore",
           "Mumbai"
          ],
          [
           "Mumbai",
           "Kolkata"
          ],
          [
           "Kolkata",
           "Bangalore"
          ],
          [
           "Delhi",
           "Kolkata"
          ],
          [
           "Delhi",
           "Bangalore"
          ],
          [
           "Delhi",
           "Hyderabad"
          ],
          [
           "Chennai",
           "Bangalore"
          ],
          [
           "Mumbai",
           "Bangalore"
          ],
          [
           "Mumbai",
           "Chennai"
          ],
          [
           "Mumbai",
           "Kolkata"
          ],
          [
           "Hyderabad",
           "Mumbai"
          ],
          [
           "Delhi",
           "Mumbai"
          ],
          [
           "Mumbai",
           "Kolkata"
          ],
          [
           "Hyderabad",
           "Bangalore"
          ],
          [
           "Hyderabad",
           "Mumbai"
          ],
          [
           "Chennai",
           "Hyderabad"
          ],
          [
           "Delhi",
           "Hyderabad"
          ],
          [
           "Kolkata",
           "Mumbai"
          ],
          [
           "Bangalore",
           "Delhi"
          ],
          [
           "Hyderabad",
           "Delhi"
          ],
          [
           "Bangalore",
           "Chennai"
          ],
          [
           "Chennai",
           "Delhi"
          ],
          [
           "Bangalore",
           "Hyderabad"
          ],
          [
           "Kolkata",
           "Hyderabad"
          ],
          [
           "Mumbai",
           "Chennai"
          ],
          [
           "Delhi",
           "Chennai"
          ],
          [
           "Mumbai",
           "Hyderabad"
          ],
          [
           "Mumbai",
           "Chennai"
          ],
          [
           "Bangalore",
           "Chennai"
          ],
          [
           "Bangalore",
           "Chennai"
          ],
          [
           "Mumbai",
           "Hyderabad"
          ]
         ],
         "hovertemplate": "Class=Business<br>Airline=%{x}<br>Price=%{y}<br>Source City=%{customdata[0]}<br>Destination City=%{customdata[1]}<extra></extra>",
         "legendgroup": "Business",
         "marker": {
          "color": "#636efa",
          "symbol": "circle"
         },
         "mode": "markers",
         "name": "Business",
         "orientation": "v",
         "showlegend": true,
         "type": "scatter",
         "x": [
          "Vistara",
          "Vistara",
          "Vistara",
          "Vistara",
          "Vistara",
          "Air_India",
          "Air_India",
          "Vistara",
          "Vistara",
          "Air_India",
          "Vistara",
          "Air_India",
          "Vistara",
          "Air_India",
          "Vistara",
          "Vistara",
          "Vistara",
          "Vistara",
          "Vistara",
          "Vistara",
          "Vistara",
          "Vistara",
          "Vistara",
          "Air_India",
          "Vistara",
          "Vistara",
          "Vistara",
          "Vistara",
          "Vistara",
          "Vistara",
          "Vistara",
          "Vistara",
          "Air_India",
          "Vistara",
          "Air_India",
          "Vistara",
          "Air_India",
          "Vistara",
          "Vistara",
          "Vistara",
          "Vistara",
          "Vistara",
          "Vistara",
          "Vistara",
          "Vistara",
          "Air_India",
          "Vistara",
          "Air_India",
          "Vistara",
          "Vistara",
          "Vistara",
          "Vistara",
          "Air_India",
          "Vistara",
          "Air_India",
          "Vistara",
          "Vistara",
          "Vistara",
          "Vistara",
          "Vistara",
          "Vistara",
          "Vistara",
          "Vistara",
          "Air_India",
          "Vistara",
          "Vistara",
          "Vistara",
          "Vistara",
          "Vistara",
          "Air_India",
          "Vistara",
          "Vistara",
          "Air_India",
          "Air_India",
          "Air_India",
          "Vistara",
          "Vistara",
          "Vistara",
          "Vistara",
          "Vistara",
          "Vistara",
          "Air_India",
          "Air_India",
          "Air_India",
          "Air_India",
          "Vistara",
          "Vistara",
          "Vistara",
          "Vistara",
          "Air_India",
          "Vistara",
          "Vistara",
          "Vistara",
          "Air_India",
          "Vistara",
          "Air_India",
          "Vistara",
          "Air_India",
          "Vistara",
          "Air_India",
          "Vistara",
          "Vistara",
          "Vistara",
          "Vistara",
          "Air_India",
          "Vistara",
          "Vistara",
          "Vistara",
          "Vistara",
          "Vistara",
          "Vistara",
          "Vistara",
          "Vistara",
          "Vistara",
          "Air_India",
          "Vistara",
          "Air_India",
          "Air_India",
          "Vistara",
          "Vistara",
          "Vistara",
          "Vistara",
          "Vistara",
          "Vistara",
          "Vistara",
          "Vistara",
          "Air_India",
          "Vistara",
          "Vistara",
          "Air_India",
          "Vistara",
          "Air_India",
          "Vistara",
          "Air_India",
          "Vistara",
          "Vistara",
          "Vistara",
          "Vistara",
          "Air_India",
          "Vistara",
          "Vistara",
          "Vistara",
          "Vistara",
          "Vistara",
          "Air_India",
          "Vistara",
          "Vistara",
          "Air_India",
          "Vistara",
          "Vistara",
          "Vistara",
          "Air_India",
          "Air_India",
          "Air_India",
          "Air_India",
          "Vistara",
          "Air_India",
          "Vistara",
          "Air_India",
          "Air_India",
          "Vistara",
          "Vistara",
          "Air_India",
          "Vistara",
          "Air_India",
          "Air_India",
          "Air_India",
          "Vistara",
          "Vistara",
          "Vistara",
          "Air_India",
          "Air_India",
          "Vistara",
          "Vistara",
          "Air_India",
          "Vistara",
          "Vistara",
          "Vistara",
          "Air_India",
          "Vistara",
          "Vistara",
          "Air_India",
          "Vistara",
          "Air_India",
          "Air_India",
          "Air_India",
          "Vistara",
          "Vistara",
          "Air_India",
          "Vistara",
          "Air_India",
          "Air_India",
          "Vistara",
          "Vistara",
          "Vistara",
          "Air_India",
          "Vistara",
          "Air_India",
          "Air_India",
          "Vistara",
          "Air_India",
          "Air_India",
          "Air_India",
          "Air_India",
          "Air_India",
          "Air_India",
          "Air_India",
          "Vistara",
          "Vistara",
          "Vistara",
          "Vistara",
          "Vistara",
          "Vistara",
          "Air_India",
          "Vistara",
          "Air_India",
          "Air_India",
          "Vistara",
          "Vistara",
          "Air_India",
          "Vistara",
          "Vistara",
          "Vistara",
          "Vistara",
          "Air_India",
          "Vistara",
          "Vistara",
          "Vistara",
          "Vistara",
          "Vistara",
          "Vistara",
          "Vistara",
          "Vistara",
          "Air_India",
          "Vistara",
          "Air_India",
          "Vistara",
          "Vistara",
          "Vistara",
          "Air_India",
          "Air_India",
          "Vistara",
          "Vistara",
          "Air_India",
          "Vistara",
          "Vistara",
          "Vistara",
          "Vistara",
          "Vistara",
          "Vistara",
          "Vistara",
          "Air_India",
          "Vistara",
          "Vistara",
          "Air_India",
          "Vistara",
          "Vistara",
          "Vistara",
          "Vistara",
          "Vistara",
          "Vistara",
          "Air_India",
          "Air_India",
          "Vistara",
          "Air_India",
          "Air_India",
          "Vistara",
          "Vistara",
          "Air_India",
          "Air_India",
          "Air_India",
          "Vistara",
          "Vistara",
          "Air_India",
          "Vistara",
          "Vistara",
          "Air_India",
          "Vistara",
          "Vistara",
          "Vistara",
          "Vistara",
          "Vistara",
          "Air_India",
          "Air_India",
          "Vistara",
          "Vistara",
          "Air_India",
          "Air_India",
          "Vistara",
          "Vistara",
          "Vistara",
          "Vistara",
          "Air_India",
          "Vistara",
          "Vistara",
          "Vistara",
          "Vistara",
          "Vistara",
          "Air_India",
          "Vistara"
         ],
         "xaxis": "x",
         "y": [
          62045,
          51875,
          62793,
          98972,
          53152,
          51345,
          42521,
          20760,
          24234,
          56476,
          49613,
          62748,
          69997,
          32170,
          60508,
          57920,
          51707,
          65529,
          53164,
          38099,
          58125,
          58315,
          45600,
          50969,
          66928,
          51819,
          58125,
          56588,
          59021,
          52175,
          17794,
          46601,
          54608,
          62188,
          20684,
          62617,
          54608,
          34460,
          59106,
          54841,
          60396,
          30808,
          60260,
          57081,
          60508,
          49553,
          51697,
          45693,
          56588,
          23838,
          62448,
          51819,
          37016,
          59254,
          40593,
          59033,
          56588,
          88950,
          44144,
          54684,
          45995,
          66155,
          44280,
          44405,
          55983,
          41064,
          37985,
          51875,
          65529,
          44405,
          60365,
          61933,
          44025,
          54684,
          51345,
          38099,
          67130,
          41064,
          23838,
          60160,
          53164,
          56476,
          45883,
          44405,
          51345,
          67769,
          57529,
          51817,
          41064,
          54684,
          51167,
          66928,
          37985,
          56476,
          56588,
          41120,
          47217,
          44449,
          39555,
          57939,
          44280,
          60396,
          52937,
          49553,
          51817,
          38099,
          44280,
          44280,
          61583,
          59537,
          54684,
          57081,
          51817,
          60260,
          44583,
          20684,
          60260,
          56590,
          36577,
          69168,
          84028,
          69168,
          54896,
          62121,
          34460,
          44280,
          53164,
          64831,
          67094,
          56476,
          60555,
          49896,
          52287,
          54684,
          72783,
          72201,
          68184,
          69244,
          44571,
          60260,
          50361,
          49207,
          37985,
          53152,
          54608,
          32859,
          60508,
          45693,
          58125,
          52287,
          57868,
          52063,
          51345,
          39499,
          54608,
          73481,
          45905,
          67004,
          43729,
          51707,
          53937,
          57999,
          51595,
          60365,
          45883,
          45257,
          45230,
          44280,
          56073,
          61404,
          26818,
          39847,
          51707,
          44280,
          51707,
          51384,
          51817,
          55502,
          55377,
          38099,
          61089,
          27976,
          53937,
          60508,
          37594,
          55983,
          26296,
          20760,
          45883,
          55983,
          78049,
          52063,
          69168,
          56702,
          65529,
          60396,
          50361,
          53209,
          50271,
          54896,
          54608,
          45883,
          22140,
          55982,
          45185,
          40843,
          49725,
          54777,
          29837,
          60978,
          58282,
          33979,
          56053,
          49896,
          72125,
          59021,
          31528,
          57081,
          48851,
          57554,
          51372,
          54841,
          53164,
          56588,
          49553,
          51819,
          45805,
          56702,
          55502,
          49177,
          24234,
          59827,
          61933,
          24122,
          51817,
          56590,
          24234,
          60396,
          38099,
          42457,
          51345,
          67094,
          57453,
          24122,
          55502,
          42521,
          84756,
          41064,
          60232,
          78225,
          59929,
          56931,
          49207,
          56588,
          60362,
          41314,
          44280,
          34460,
          44280,
          45995,
          67141,
          53152,
          52063,
          41314,
          60508,
          60508,
          66267,
          42521,
          42521,
          54684,
          57349,
          60978,
          67769,
          42457,
          51697,
          44144,
          44787,
          61933,
          62045,
          45995,
          77737,
          59805,
          38043,
          45883,
          51457,
          24056,
          31982,
          32923,
          54115,
          44280,
          60160,
          56588,
          52063,
          61933,
          60232,
          58125,
          49613,
          44280,
          60396,
          17604
         ],
         "yaxis": "y"
        },
        {
         "customdata": [
          [
           "Mumbai",
           "Hyderabad"
          ],
          [
           "Bangalore",
           "Hyderabad"
          ],
          [
           "Delhi",
           "Bangalore"
          ],
          [
           "Kolkata",
           "Hyderabad"
          ],
          [
           "Chennai",
           "Bangalore"
          ],
          [
           "Chennai",
           "Delhi"
          ],
          [
           "Bangalore",
           "Delhi"
          ],
          [
           "Delhi",
           "Bangalore"
          ],
          [
           "Bangalore",
           "Hyderabad"
          ],
          [
           "Mumbai",
           "Delhi"
          ],
          [
           "Kolkata",
           "Bangalore"
          ],
          [
           "Hyderabad",
           "Bangalore"
          ],
          [
           "Delhi",
           "Hyderabad"
          ],
          [
           "Chennai",
           "Bangalore"
          ],
          [
           "Hyderabad",
           "Kolkata"
          ],
          [
           "Delhi",
           "Mumbai"
          ],
          [
           "Mumbai",
           "Chennai"
          ],
          [
           "Mumbai",
           "Bangalore"
          ],
          [
           "Mumbai",
           "Hyderabad"
          ],
          [
           "Delhi",
           "Hyderabad"
          ],
          [
           "Delhi",
           "Hyderabad"
          ],
          [
           "Hyderabad",
           "Delhi"
          ],
          [
           "Mumbai",
           "Delhi"
          ],
          [
           "Chennai",
           "Kolkata"
          ],
          [
           "Bangalore",
           "Delhi"
          ],
          [
           "Kolkata",
           "Delhi"
          ],
          [
           "Bangalore",
           "Delhi"
          ],
          [
           "Chennai",
           "Bangalore"
          ],
          [
           "Mumbai",
           "Hyderabad"
          ],
          [
           "Chennai",
           "Bangalore"
          ],
          [
           "Mumbai",
           "Delhi"
          ],
          [
           "Delhi",
           "Bangalore"
          ],
          [
           "Mumbai",
           "Delhi"
          ],
          [
           "Chennai",
           "Delhi"
          ],
          [
           "Delhi",
           "Mumbai"
          ],
          [
           "Hyderabad",
           "Delhi"
          ],
          [
           "Kolkata",
           "Mumbai"
          ],
          [
           "Bangalore",
           "Kolkata"
          ],
          [
           "Mumbai",
           "Kolkata"
          ],
          [
           "Mumbai",
           "Bangalore"
          ],
          [
           "Bangalore",
           "Mumbai"
          ],
          [
           "Chennai",
           "Kolkata"
          ],
          [
           "Kolkata",
           "Mumbai"
          ],
          [
           "Bangalore",
           "Kolkata"
          ],
          [
           "Bangalore",
           "Delhi"
          ],
          [
           "Delhi",
           "Mumbai"
          ],
          [
           "Bangalore",
           "Delhi"
          ],
          [
           "Chennai",
           "Mumbai"
          ],
          [
           "Delhi",
           "Mumbai"
          ],
          [
           "Kolkata",
           "Bangalore"
          ],
          [
           "Hyderabad",
           "Mumbai"
          ],
          [
           "Chennai",
           "Bangalore"
          ],
          [
           "Delhi",
           "Bangalore"
          ],
          [
           "Kolkata",
           "Chennai"
          ],
          [
           "Hyderabad",
           "Chennai"
          ],
          [
           "Bangalore",
           "Delhi"
          ],
          [
           "Chennai",
           "Mumbai"
          ],
          [
           "Delhi",
           "Mumbai"
          ],
          [
           "Mumbai",
           "Delhi"
          ],
          [
           "Delhi",
           "Kolkata"
          ],
          [
           "Bangalore",
           "Delhi"
          ],
          [
           "Hyderabad",
           "Kolkata"
          ],
          [
           "Bangalore",
           "Kolkata"
          ],
          [
           "Delhi",
           "Kolkata"
          ],
          [
           "Delhi",
           "Kolkata"
          ],
          [
           "Delhi",
           "Mumbai"
          ],
          [
           "Mumbai",
           "Chennai"
          ],
          [
           "Kolkata",
           "Bangalore"
          ],
          [
           "Mumbai",
           "Hyderabad"
          ],
          [
           "Mumbai",
           "Hyderabad"
          ],
          [
           "Mumbai",
           "Chennai"
          ],
          [
           "Chennai",
           "Kolkata"
          ],
          [
           "Kolkata",
           "Mumbai"
          ],
          [
           "Mumbai",
           "Kolkata"
          ],
          [
           "Chennai",
           "Bangalore"
          ],
          [
           "Chennai",
           "Mumbai"
          ],
          [
           "Kolkata",
           "Mumbai"
          ],
          [
           "Hyderabad",
           "Kolkata"
          ],
          [
           "Bangalore",
           "Mumbai"
          ],
          [
           "Mumbai",
           "Bangalore"
          ],
          [
           "Delhi",
           "Bangalore"
          ],
          [
           "Hyderabad",
           "Delhi"
          ],
          [
           "Delhi",
           "Bangalore"
          ],
          [
           "Delhi",
           "Hyderabad"
          ],
          [
           "Kolkata",
           "Delhi"
          ],
          [
           "Mumbai",
           "Chennai"
          ],
          [
           "Hyderabad",
           "Chennai"
          ],
          [
           "Mumbai",
           "Chennai"
          ],
          [
           "Mumbai",
           "Bangalore"
          ],
          [
           "Hyderabad",
           "Chennai"
          ],
          [
           "Delhi",
           "Bangalore"
          ],
          [
           "Bangalore",
           "Kolkata"
          ],
          [
           "Mumbai",
           "Kolkata"
          ],
          [
           "Delhi",
           "Kolkata"
          ],
          [
           "Chennai",
           "Bangalore"
          ],
          [
           "Delhi",
           "Kolkata"
          ],
          [
           "Kolkata",
           "Hyderabad"
          ],
          [
           "Kolkata",
           "Bangalore"
          ],
          [
           "Hyderabad",
           "Mumbai"
          ],
          [
           "Delhi",
           "Mumbai"
          ],
          [
           "Kolkata",
           "Mumbai"
          ],
          [
           "Kolkata",
           "Hyderabad"
          ],
          [
           "Kolkata",
           "Bangalore"
          ],
          [
           "Chennai",
           "Kolkata"
          ],
          [
           "Mumbai",
           "Chennai"
          ],
          [
           "Kolkata",
           "Bangalore"
          ],
          [
           "Kolkata",
           "Hyderabad"
          ],
          [
           "Chennai",
           "Mumbai"
          ],
          [
           "Bangalore",
           "Delhi"
          ],
          [
           "Chennai",
           "Mumbai"
          ],
          [
           "Delhi",
           "Hyderabad"
          ],
          [
           "Kolkata",
           "Delhi"
          ],
          [
           "Mumbai",
           "Chennai"
          ],
          [
           "Delhi",
           "Hyderabad"
          ],
          [
           "Hyderabad",
           "Chennai"
          ],
          [
           "Mumbai",
           "Bangalore"
          ],
          [
           "Delhi",
           "Kolkata"
          ],
          [
           "Kolkata",
           "Mumbai"
          ],
          [
           "Delhi",
           "Kolkata"
          ],
          [
           "Chennai",
           "Hyderabad"
          ],
          [
           "Delhi",
           "Kolkata"
          ],
          [
           "Mumbai",
           "Delhi"
          ],
          [
           "Bangalore",
           "Hyderabad"
          ],
          [
           "Chennai",
           "Bangalore"
          ],
          [
           "Delhi",
           "Bangalore"
          ],
          [
           "Chennai",
           "Mumbai"
          ],
          [
           "Kolkata",
           "Delhi"
          ],
          [
           "Delhi",
           "Chennai"
          ],
          [
           "Delhi",
           "Hyderabad"
          ],
          [
           "Bangalore",
           "Mumbai"
          ],
          [
           "Mumbai",
           "Delhi"
          ],
          [
           "Chennai",
           "Delhi"
          ],
          [
           "Delhi",
           "Mumbai"
          ],
          [
           "Chennai",
           "Mumbai"
          ],
          [
           "Bangalore",
           "Hyderabad"
          ],
          [
           "Chennai",
           "Mumbai"
          ],
          [
           "Kolkata",
           "Delhi"
          ],
          [
           "Delhi",
           "Kolkata"
          ],
          [
           "Delhi",
           "Kolkata"
          ],
          [
           "Kolkata",
           "Chennai"
          ],
          [
           "Delhi",
           "Bangalore"
          ],
          [
           "Bangalore",
           "Mumbai"
          ],
          [
           "Kolkata",
           "Hyderabad"
          ],
          [
           "Bangalore",
           "Delhi"
          ],
          [
           "Kolkata",
           "Delhi"
          ],
          [
           "Hyderabad",
           "Delhi"
          ],
          [
           "Delhi",
           "Hyderabad"
          ],
          [
           "Mumbai",
           "Delhi"
          ],
          [
           "Hyderabad",
           "Bangalore"
          ],
          [
           "Delhi",
           "Mumbai"
          ],
          [
           "Bangalore",
           "Mumbai"
          ],
          [
           "Delhi",
           "Mumbai"
          ],
          [
           "Kolkata",
           "Mumbai"
          ],
          [
           "Kolkata",
           "Hyderabad"
          ],
          [
           "Chennai",
           "Bangalore"
          ],
          [
           "Chennai",
           "Bangalore"
          ],
          [
           "Chennai",
           "Kolkata"
          ],
          [
           "Bangalore",
           "Mumbai"
          ],
          [
           "Chennai",
           "Mumbai"
          ],
          [
           "Delhi",
           "Mumbai"
          ],
          [
           "Delhi",
           "Chennai"
          ],
          [
           "Delhi",
           "Mumbai"
          ],
          [
           "Kolkata",
           "Mumbai"
          ],
          [
           "Mumbai",
           "Delhi"
          ],
          [
           "Bangalore",
           "Chennai"
          ],
          [
           "Delhi",
           "Kolkata"
          ],
          [
           "Hyderabad",
           "Chennai"
          ],
          [
           "Hyderabad",
           "Mumbai"
          ],
          [
           "Chennai",
           "Delhi"
          ],
          [
           "Hyderabad",
           "Delhi"
          ],
          [
           "Chennai",
           "Kolkata"
          ],
          [
           "Chennai",
           "Mumbai"
          ],
          [
           "Delhi",
           "Bangalore"
          ],
          [
           "Mumbai",
           "Kolkata"
          ],
          [
           "Kolkata",
           "Mumbai"
          ],
          [
           "Mumbai",
           "Kolkata"
          ],
          [
           "Mumbai",
           "Kolkata"
          ],
          [
           "Mumbai",
           "Delhi"
          ],
          [
           "Mumbai",
           "Delhi"
          ],
          [
           "Bangalore",
           "Delhi"
          ],
          [
           "Hyderabad",
           "Bangalore"
          ],
          [
           "Kolkata",
           "Chennai"
          ],
          [
           "Chennai",
           "Bangalore"
          ],
          [
           "Mumbai",
           "Hyderabad"
          ],
          [
           "Chennai",
           "Kolkata"
          ],
          [
           "Mumbai",
           "Chennai"
          ],
          [
           "Delhi",
           "Hyderabad"
          ],
          [
           "Mumbai",
           "Hyderabad"
          ],
          [
           "Delhi",
           "Kolkata"
          ],
          [
           "Hyderabad",
           "Chennai"
          ],
          [
           "Kolkata",
           "Delhi"
          ],
          [
           "Kolkata",
           "Delhi"
          ],
          [
           "Hyderabad",
           "Delhi"
          ],
          [
           "Mumbai",
           "Chennai"
          ],
          [
           "Delhi",
           "Chennai"
          ],
          [
           "Mumbai",
           "Bangalore"
          ],
          [
           "Kolkata",
           "Hyderabad"
          ],
          [
           "Bangalore",
           "Chennai"
          ],
          [
           "Delhi",
           "Kolkata"
          ],
          [
           "Mumbai",
           "Delhi"
          ],
          [
           "Bangalore",
           "Delhi"
          ],
          [
           "Bangalore",
           "Kolkata"
          ],
          [
           "Chennai",
           "Mumbai"
          ],
          [
           "Delhi",
           "Bangalore"
          ],
          [
           "Mumbai",
           "Kolkata"
          ],
          [
           "Mumbai",
           "Delhi"
          ],
          [
           "Kolkata",
           "Bangalore"
          ],
          [
           "Chennai",
           "Hyderabad"
          ],
          [
           "Bangalore",
           "Mumbai"
          ],
          [
           "Delhi",
           "Kolkata"
          ],
          [
           "Kolkata",
           "Bangalore"
          ],
          [
           "Chennai",
           "Mumbai"
          ],
          [
           "Mumbai",
           "Kolkata"
          ],
          [
           "Delhi",
           "Bangalore"
          ],
          [
           "Mumbai",
           "Delhi"
          ],
          [
           "Mumbai",
           "Delhi"
          ],
          [
           "Bangalore",
           "Mumbai"
          ],
          [
           "Bangalore",
           "Hyderabad"
          ],
          [
           "Mumbai",
           "Hyderabad"
          ],
          [
           "Delhi",
           "Kolkata"
          ],
          [
           "Bangalore",
           "Hyderabad"
          ],
          [
           "Chennai",
           "Bangalore"
          ],
          [
           "Bangalore",
           "Mumbai"
          ],
          [
           "Delhi",
           "Mumbai"
          ],
          [
           "Hyderabad",
           "Bangalore"
          ],
          [
           "Hyderabad",
           "Bangalore"
          ],
          [
           "Kolkata",
           "Delhi"
          ],
          [
           "Mumbai",
           "Kolkata"
          ],
          [
           "Delhi",
           "Kolkata"
          ],
          [
           "Delhi",
           "Kolkata"
          ],
          [
           "Mumbai",
           "Delhi"
          ],
          [
           "Hyderabad",
           "Bangalore"
          ],
          [
           "Mumbai",
           "Kolkata"
          ],
          [
           "Kolkata",
           "Delhi"
          ],
          [
           "Mumbai",
           "Bangalore"
          ],
          [
           "Delhi",
           "Kolkata"
          ],
          [
           "Mumbai",
           "Kolkata"
          ],
          [
           "Mumbai",
           "Delhi"
          ],
          [
           "Bangalore",
           "Kolkata"
          ],
          [
           "Hyderabad",
           "Mumbai"
          ],
          [
           "Chennai",
           "Kolkata"
          ],
          [
           "Kolkata",
           "Bangalore"
          ],
          [
           "Delhi",
           "Bangalore"
          ],
          [
           "Delhi",
           "Chennai"
          ],
          [
           "Hyderabad",
           "Mumbai"
          ],
          [
           "Hyderabad",
           "Kolkata"
          ],
          [
           "Bangalore",
           "Delhi"
          ],
          [
           "Mumbai",
           "Hyderabad"
          ],
          [
           "Kolkata",
           "Mumbai"
          ],
          [
           "Hyderabad",
           "Kolkata"
          ],
          [
           "Hyderabad",
           "Mumbai"
          ],
          [
           "Hyderabad",
           "Kolkata"
          ],
          [
           "Bangalore",
           "Mumbai"
          ],
          [
           "Bangalore",
           "Mumbai"
          ],
          [
           "Bangalore",
           "Delhi"
          ],
          [
           "Bangalore",
           "Mumbai"
          ],
          [
           "Chennai",
           "Delhi"
          ],
          [
           "Chennai",
           "Mumbai"
          ],
          [
           "Bangalore",
           "Chennai"
          ],
          [
           "Hyderabad",
           "Delhi"
          ],
          [
           "Delhi",
           "Mumbai"
          ],
          [
           "Hyderabad",
           "Delhi"
          ],
          [
           "Bangalore",
           "Delhi"
          ],
          [
           "Kolkata",
           "Chennai"
          ],
          [
           "Delhi",
           "Chennai"
          ],
          [
           "Delhi",
           "Bangalore"
          ],
          [
           "Kolkata",
           "Chennai"
          ],
          [
           "Hyderabad",
           "Kolkata"
          ],
          [
           "Kolkata",
           "Chennai"
          ],
          [
           "Hyderabad",
           "Mumbai"
          ],
          [
           "Bangalore",
           "Delhi"
          ],
          [
           "Kolkata",
           "Bangalore"
          ],
          [
           "Bangalore",
           "Delhi"
          ],
          [
           "Chennai",
           "Bangalore"
          ],
          [
           "Chennai",
           "Hyderabad"
          ],
          [
           "Hyderabad",
           "Bangalore"
          ],
          [
           "Delhi",
           "Kolkata"
          ],
          [
           "Bangalore",
           "Delhi"
          ],
          [
           "Bangalore",
           "Kolkata"
          ],
          [
           "Delhi",
           "Kolkata"
          ],
          [
           "Bangalore",
           "Delhi"
          ],
          [
           "Hyderabad",
           "Delhi"
          ],
          [
           "Delhi",
           "Mumbai"
          ],
          [
           "Chennai",
           "Kolkata"
          ],
          [
           "Mumbai",
           "Chennai"
          ],
          [
           "Kolkata",
           "Mumbai"
          ],
          [
           "Hyderabad",
           "Chennai"
          ],
          [
           "Delhi",
           "Hyderabad"
          ],
          [
           "Hyderabad",
           "Bangalore"
          ],
          [
           "Chennai",
           "Mumbai"
          ],
          [
           "Bangalore",
           "Delhi"
          ],
          [
           "Mumbai",
           "Kolkata"
          ],
          [
           "Kolkata",
           "Delhi"
          ],
          [
           "Mumbai",
           "Kolkata"
          ],
          [
           "Hyderabad",
           "Kolkata"
          ],
          [
           "Hyderabad",
           "Mumbai"
          ],
          [
           "Kolkata",
           "Delhi"
          ],
          [
           "Delhi",
           "Kolkata"
          ],
          [
           "Bangalore",
           "Hyderabad"
          ],
          [
           "Delhi",
           "Mumbai"
          ],
          [
           "Delhi",
           "Mumbai"
          ],
          [
           "Hyderabad",
           "Mumbai"
          ],
          [
           "Delhi",
           "Kolkata"
          ],
          [
           "Mumbai",
           "Kolkata"
          ],
          [
           "Bangalore",
           "Mumbai"
          ],
          [
           "Mumbai",
           "Delhi"
          ],
          [
           "Mumbai",
           "Kolkata"
          ],
          [
           "Mumbai",
           "Hyderabad"
          ],
          [
           "Mumbai",
           "Kolkata"
          ],
          [
           "Bangalore",
           "Mumbai"
          ],
          [
           "Bangalore",
           "Mumbai"
          ],
          [
           "Bangalore",
           "Mumbai"
          ],
          [
           "Chennai",
           "Delhi"
          ],
          [
           "Kolkata",
           "Mumbai"
          ],
          [
           "Hyderabad",
           "Delhi"
          ],
          [
           "Delhi",
           "Mumbai"
          ],
          [
           "Kolkata",
           "Bangalore"
          ],
          [
           "Kolkata",
           "Delhi"
          ],
          [
           "Kolkata",
           "Chennai"
          ],
          [
           "Kolkata",
           "Bangalore"
          ],
          [
           "Delhi",
           "Bangalore"
          ],
          [
           "Chennai",
           "Kolkata"
          ],
          [
           "Chennai",
           "Mumbai"
          ],
          [
           "Mumbai",
           "Delhi"
          ],
          [
           "Kolkata",
           "Chennai"
          ],
          [
           "Mumbai",
           "Delhi"
          ],
          [
           "Bangalore",
           "Chennai"
          ],
          [
           "Mumbai",
           "Delhi"
          ],
          [
           "Mumbai",
           "Bangalore"
          ],
          [
           "Bangalore",
           "Hyderabad"
          ],
          [
           "Hyderabad",
           "Kolkata"
          ],
          [
           "Delhi",
           "Bangalore"
          ],
          [
           "Hyderabad",
           "Delhi"
          ],
          [
           "Mumbai",
           "Chennai"
          ],
          [
           "Chennai",
           "Delhi"
          ],
          [
           "Hyderabad",
           "Delhi"
          ],
          [
           "Chennai",
           "Hyderabad"
          ],
          [
           "Kolkata",
           "Mumbai"
          ],
          [
           "Bangalore",
           "Delhi"
          ],
          [
           "Bangalore",
           "Chennai"
          ],
          [
           "Bangalore",
           "Hyderabad"
          ],
          [
           "Mumbai",
           "Chennai"
          ],
          [
           "Mumbai",
           "Delhi"
          ],
          [
           "Bangalore",
           "Delhi"
          ],
          [
           "Bangalore",
           "Delhi"
          ],
          [
           "Mumbai",
           "Chennai"
          ],
          [
           "Chennai",
           "Delhi"
          ],
          [
           "Delhi",
           "Bangalore"
          ],
          [
           "Kolkata",
           "Delhi"
          ],
          [
           "Delhi",
           "Bangalore"
          ],
          [
           "Chennai",
           "Mumbai"
          ],
          [
           "Delhi",
           "Kolkata"
          ],
          [
           "Chennai",
           "Mumbai"
          ],
          [
           "Delhi",
           "Chennai"
          ],
          [
           "Bangalore",
           "Kolkata"
          ],
          [
           "Kolkata",
           "Mumbai"
          ],
          [
           "Kolkata",
           "Hyderabad"
          ],
          [
           "Bangalore",
           "Delhi"
          ],
          [
           "Kolkata",
           "Mumbai"
          ],
          [
           "Chennai",
           "Bangalore"
          ],
          [
           "Mumbai",
           "Chennai"
          ],
          [
           "Delhi",
           "Kolkata"
          ],
          [
           "Chennai",
           "Hyderabad"
          ],
          [
           "Chennai",
           "Delhi"
          ],
          [
           "Kolkata",
           "Mumbai"
          ],
          [
           "Kolkata",
           "Chennai"
          ],
          [
           "Bangalore",
           "Delhi"
          ],
          [
           "Bangalore",
           "Hyderabad"
          ],
          [
           "Delhi",
           "Chennai"
          ],
          [
           "Delhi",
           "Chennai"
          ],
          [
           "Mumbai",
           "Kolkata"
          ],
          [
           "Bangalore",
           "Mumbai"
          ],
          [
           "Bangalore",
           "Kolkata"
          ],
          [
           "Chennai",
           "Hyderabad"
          ],
          [
           "Bangalore",
           "Mumbai"
          ],
          [
           "Kolkata",
           "Delhi"
          ],
          [
           "Hyderabad",
           "Delhi"
          ],
          [
           "Kolkata",
           "Bangalore"
          ],
          [
           "Mumbai",
           "Chennai"
          ],
          [
           "Kolkata",
           "Bangalore"
          ],
          [
           "Hyderabad",
           "Kolkata"
          ],
          [
           "Chennai",
           "Mumbai"
          ],
          [
           "Delhi",
           "Hyderabad"
          ],
          [
           "Mumbai",
           "Bangalore"
          ],
          [
           "Bangalore",
           "Chennai"
          ],
          [
           "Hyderabad",
           "Mumbai"
          ],
          [
           "Hyderabad",
           "Mumbai"
          ],
          [
           "Mumbai",
           "Bangalore"
          ],
          [
           "Bangalore",
           "Mumbai"
          ],
          [
           "Chennai",
           "Kolkata"
          ],
          [
           "Delhi",
           "Kolkata"
          ],
          [
           "Hyderabad",
           "Delhi"
          ],
          [
           "Hyderabad",
           "Mumbai"
          ],
          [
           "Delhi",
           "Kolkata"
          ],
          [
           "Delhi",
           "Kolkata"
          ],
          [
           "Kolkata",
           "Hyderabad"
          ],
          [
           "Mumbai",
           "Hyderabad"
          ],
          [
           "Bangalore",
           "Hyderabad"
          ],
          [
           "Bangalore",
           "Delhi"
          ],
          [
           "Mumbai",
           "Kolkata"
          ],
          [
           "Mumbai",
           "Delhi"
          ],
          [
           "Bangalore",
           "Hyderabad"
          ],
          [
           "Delhi",
           "Kolkata"
          ],
          [
           "Bangalore",
           "Chennai"
          ],
          [
           "Kolkata",
           "Delhi"
          ],
          [
           "Bangalore",
           "Hyderabad"
          ],
          [
           "Bangalore",
           "Hyderabad"
          ],
          [
           "Mumbai",
           "Bangalore"
          ],
          [
           "Kolkata",
           "Hyderabad"
          ],
          [
           "Delhi",
           "Bangalore"
          ],
          [
           "Mumbai",
           "Chennai"
          ],
          [
           "Hyderabad",
           "Delhi"
          ],
          [
           "Hyderabad",
           "Mumbai"
          ],
          [
           "Mumbai",
           "Chennai"
          ],
          [
           "Kolkata",
           "Delhi"
          ],
          [
           "Chennai",
           "Mumbai"
          ],
          [
           "Kolkata",
           "Bangalore"
          ],
          [
           "Mumbai",
           "Hyderabad"
          ],
          [
           "Mumbai",
           "Kolkata"
          ],
          [
           "Mumbai",
           "Bangalore"
          ],
          [
           "Hyderabad",
           "Chennai"
          ],
          [
           "Kolkata",
           "Delhi"
          ],
          [
           "Chennai",
           "Delhi"
          ],
          [
           "Hyderabad",
           "Mumbai"
          ],
          [
           "Mumbai",
           "Hyderabad"
          ],
          [
           "Delhi",
           "Kolkata"
          ],
          [
           "Delhi",
           "Kolkata"
          ],
          [
           "Bangalore",
           "Chennai"
          ],
          [
           "Chennai",
           "Kolkata"
          ],
          [
           "Delhi",
           "Bangalore"
          ],
          [
           "Hyderabad",
           "Mumbai"
          ],
          [
           "Mumbai",
           "Chennai"
          ],
          [
           "Delhi",
           "Kolkata"
          ],
          [
           "Hyderabad",
           "Bangalore"
          ],
          [
           "Chennai",
           "Bangalore"
          ],
          [
           "Chennai",
           "Bangalore"
          ],
          [
           "Kolkata",
           "Delhi"
          ],
          [
           "Delhi",
           "Chennai"
          ],
          [
           "Chennai",
           "Bangalore"
          ],
          [
           "Mumbai",
           "Kolkata"
          ],
          [
           "Hyderabad",
           "Kolkata"
          ],
          [
           "Hyderabad",
           "Delhi"
          ],
          [
           "Mumbai",
           "Kolkata"
          ],
          [
           "Hyderabad",
           "Chennai"
          ],
          [
           "Bangalore",
           "Delhi"
          ],
          [
           "Kolkata",
           "Mumbai"
          ],
          [
           "Mumbai",
           "Chennai"
          ],
          [
           "Delhi",
           "Chennai"
          ],
          [
           "Kolkata",
           "Delhi"
          ],
          [
           "Mumbai",
           "Delhi"
          ],
          [
           "Mumbai",
           "Delhi"
          ],
          [
           "Chennai",
           "Bangalore"
          ],
          [
           "Hyderabad",
           "Bangalore"
          ],
          [
           "Mumbai",
           "Delhi"
          ],
          [
           "Delhi",
           "Bangalore"
          ],
          [
           "Kolkata",
           "Hyderabad"
          ],
          [
           "Mumbai",
           "Bangalore"
          ],
          [
           "Kolkata",
           "Hyderabad"
          ],
          [
           "Delhi",
           "Kolkata"
          ],
          [
           "Bangalore",
           "Hyderabad"
          ],
          [
           "Delhi",
           "Mumbai"
          ],
          [
           "Delhi",
           "Mumbai"
          ],
          [
           "Hyderabad",
           "Chennai"
          ],
          [
           "Bangalore",
           "Delhi"
          ],
          [
           "Delhi",
           "Kolkata"
          ],
          [
           "Bangalore",
           "Kolkata"
          ],
          [
           "Mumbai",
           "Hyderabad"
          ],
          [
           "Chennai",
           "Delhi"
          ],
          [
           "Delhi",
           "Mumbai"
          ],
          [
           "Bangalore",
           "Chennai"
          ],
          [
           "Bangalore",
           "Kolkata"
          ],
          [
           "Mumbai",
           "Delhi"
          ],
          [
           "Bangalore",
           "Chennai"
          ],
          [
           "Chennai",
           "Delhi"
          ],
          [
           "Delhi",
           "Kolkata"
          ],
          [
           "Delhi",
           "Kolkata"
          ],
          [
           "Kolkata",
           "Mumbai"
          ],
          [
           "Kolkata",
           "Bangalore"
          ],
          [
           "Delhi",
           "Kolkata"
          ],
          [
           "Delhi",
           "Mumbai"
          ],
          [
           "Kolkata",
           "Hyderabad"
          ],
          [
           "Mumbai",
           "Kolkata"
          ],
          [
           "Mumbai",
           "Bangalore"
          ],
          [
           "Chennai",
           "Delhi"
          ],
          [
           "Delhi",
           "Mumbai"
          ],
          [
           "Delhi",
           "Bangalore"
          ],
          [
           "Kolkata",
           "Chennai"
          ],
          [
           "Bangalore",
           "Kolkata"
          ],
          [
           "Chennai",
           "Mumbai"
          ],
          [
           "Mumbai",
           "Bangalore"
          ],
          [
           "Chennai",
           "Bangalore"
          ],
          [
           "Bangalore",
           "Chennai"
          ],
          [
           "Hyderabad",
           "Kolkata"
          ],
          [
           "Mumbai",
           "Kolkata"
          ],
          [
           "Mumbai",
           "Hyderabad"
          ],
          [
           "Kolkata",
           "Mumbai"
          ],
          [
           "Chennai",
           "Delhi"
          ],
          [
           "Delhi",
           "Bangalore"
          ],
          [
           "Delhi",
           "Chennai"
          ],
          [
           "Kolkata",
           "Delhi"
          ],
          [
           "Bangalore",
           "Hyderabad"
          ],
          [
           "Mumbai",
           "Hyderabad"
          ],
          [
           "Hyderabad",
           "Delhi"
          ],
          [
           "Mumbai",
           "Bangalore"
          ],
          [
           "Bangalore",
           "Delhi"
          ],
          [
           "Mumbai",
           "Kolkata"
          ],
          [
           "Bangalore",
           "Mumbai"
          ],
          [
           "Hyderabad",
           "Kolkata"
          ],
          [
           "Hyderabad",
           "Kolkata"
          ],
          [
           "Hyderabad",
           "Chennai"
          ],
          [
           "Mumbai",
           "Kolkata"
          ],
          [
           "Mumbai",
           "Hyderabad"
          ],
          [
           "Mumbai",
           "Bangalore"
          ],
          [
           "Mumbai",
           "Bangalore"
          ],
          [
           "Chennai",
           "Bangalore"
          ],
          [
           "Bangalore",
           "Mumbai"
          ],
          [
           "Bangalore",
           "Kolkata"
          ],
          [
           "Hyderabad",
           "Kolkata"
          ],
          [
           "Delhi",
           "Bangalore"
          ],
          [
           "Kolkata",
           "Hyderabad"
          ],
          [
           "Kolkata",
           "Mumbai"
          ],
          [
           "Delhi",
           "Mumbai"
          ],
          [
           "Mumbai",
           "Delhi"
          ],
          [
           "Bangalore",
           "Mumbai"
          ],
          [
           "Kolkata",
           "Hyderabad"
          ],
          [
           "Delhi",
           "Bangalore"
          ],
          [
           "Hyderabad",
           "Chennai"
          ],
          [
           "Delhi",
           "Bangalore"
          ],
          [
           "Bangalore",
           "Delhi"
          ],
          [
           "Chennai",
           "Kolkata"
          ],
          [
           "Kolkata",
           "Bangalore"
          ],
          [
           "Kolkata",
           "Hyderabad"
          ],
          [
           "Bangalore",
           "Chennai"
          ],
          [
           "Delhi",
           "Mumbai"
          ],
          [
           "Kolkata",
           "Bangalore"
          ],
          [
           "Kolkata",
           "Mumbai"
          ],
          [
           "Bangalore",
           "Delhi"
          ],
          [
           "Hyderabad",
           "Bangalore"
          ],
          [
           "Kolkata",
           "Chennai"
          ],
          [
           "Chennai",
           "Delhi"
          ],
          [
           "Delhi",
           "Bangalore"
          ],
          [
           "Hyderabad",
           "Chennai"
          ],
          [
           "Chennai",
           "Delhi"
          ],
          [
           "Bangalore",
           "Delhi"
          ],
          [
           "Kolkata",
           "Mumbai"
          ],
          [
           "Chennai",
           "Mumbai"
          ],
          [
           "Mumbai",
           "Delhi"
          ],
          [
           "Mumbai",
           "Hyderabad"
          ],
          [
           "Bangalore",
           "Delhi"
          ],
          [
           "Delhi",
           "Bangalore"
          ],
          [
           "Chennai",
           "Bangalore"
          ],
          [
           "Delhi",
           "Mumbai"
          ],
          [
           "Chennai",
           "Bangalore"
          ],
          [
           "Delhi",
           "Bangalore"
          ],
          [
           "Delhi",
           "Bangalore"
          ],
          [
           "Bangalore",
           "Mumbai"
          ],
          [
           "Mumbai",
           "Chennai"
          ],
          [
           "Hyderabad",
           "Bangalore"
          ],
          [
           "Mumbai",
           "Hyderabad"
          ],
          [
           "Delhi",
           "Hyderabad"
          ],
          [
           "Chennai",
           "Kolkata"
          ],
          [
           "Kolkata",
           "Mumbai"
          ],
          [
           "Hyderabad",
           "Delhi"
          ],
          [
           "Delhi",
           "Chennai"
          ],
          [
           "Hyderabad",
           "Mumbai"
          ],
          [
           "Kolkata",
           "Bangalore"
          ],
          [
           "Hyderabad",
           "Mumbai"
          ],
          [
           "Bangalore",
           "Kolkata"
          ],
          [
           "Mumbai",
           "Hyderabad"
          ],
          [
           "Mumbai",
           "Chennai"
          ],
          [
           "Mumbai",
           "Kolkata"
          ],
          [
           "Delhi",
           "Kolkata"
          ],
          [
           "Bangalore",
           "Delhi"
          ],
          [
           "Bangalore",
           "Delhi"
          ],
          [
           "Mumbai",
           "Kolkata"
          ],
          [
           "Chennai",
           "Hyderabad"
          ],
          [
           "Kolkata",
           "Delhi"
          ],
          [
           "Kolkata",
           "Mumbai"
          ],
          [
           "Bangalore",
           "Delhi"
          ],
          [
           "Delhi",
           "Hyderabad"
          ],
          [
           "Mumbai",
           "Chennai"
          ],
          [
           "Hyderabad",
           "Bangalore"
          ],
          [
           "Hyderabad",
           "Kolkata"
          ],
          [
           "Chennai",
           "Delhi"
          ],
          [
           "Kolkata",
           "Delhi"
          ],
          [
           "Kolkata",
           "Hyderabad"
          ],
          [
           "Chennai",
           "Delhi"
          ],
          [
           "Mumbai",
           "Bangalore"
          ],
          [
           "Hyderabad",
           "Kolkata"
          ],
          [
           "Chennai",
           "Mumbai"
          ],
          [
           "Bangalore",
           "Hyderabad"
          ],
          [
           "Delhi",
           "Kolkata"
          ],
          [
           "Delhi",
           "Chennai"
          ],
          [
           "Delhi",
           "Kolkata"
          ],
          [
           "Hyderabad",
           "Delhi"
          ],
          [
           "Hyderabad",
           "Delhi"
          ],
          [
           "Chennai",
           "Mumbai"
          ],
          [
           "Delhi",
           "Mumbai"
          ],
          [
           "Bangalore",
           "Hyderabad"
          ],
          [
           "Mumbai",
           "Kolkata"
          ],
          [
           "Mumbai",
           "Chennai"
          ],
          [
           "Bangalore",
           "Chennai"
          ],
          [
           "Mumbai",
           "Kolkata"
          ],
          [
           "Kolkata",
           "Mumbai"
          ],
          [
           "Kolkata",
           "Delhi"
          ],
          [
           "Delhi",
           "Bangalore"
          ],
          [
           "Mumbai",
           "Kolkata"
          ],
          [
           "Bangalore",
           "Kolkata"
          ],
          [
           "Hyderabad",
           "Chennai"
          ],
          [
           "Mumbai",
           "Bangalore"
          ],
          [
           "Chennai",
           "Kolkata"
          ],
          [
           "Mumbai",
           "Hyderabad"
          ],
          [
           "Delhi",
           "Hyderabad"
          ],
          [
           "Bangalore",
           "Delhi"
          ],
          [
           "Bangalore",
           "Delhi"
          ],
          [
           "Hyderabad",
           "Chennai"
          ],
          [
           "Mumbai",
           "Kolkata"
          ],
          [
           "Delhi",
           "Bangalore"
          ],
          [
           "Delhi",
           "Mumbai"
          ],
          [
           "Kolkata",
           "Mumbai"
          ],
          [
           "Kolkata",
           "Bangalore"
          ],
          [
           "Delhi",
           "Bangalore"
          ],
          [
           "Hyderabad",
           "Kolkata"
          ],
          [
           "Delhi",
           "Bangalore"
          ],
          [
           "Hyderabad",
           "Mumbai"
          ],
          [
           "Bangalore",
           "Delhi"
          ],
          [
           "Delhi",
           "Chennai"
          ],
          [
           "Mumbai",
           "Delhi"
          ],
          [
           "Delhi",
           "Mumbai"
          ],
          [
           "Mumbai",
           "Delhi"
          ],
          [
           "Delhi",
           "Hyderabad"
          ],
          [
           "Kolkata",
           "Bangalore"
          ],
          [
           "Kolkata",
           "Hyderabad"
          ],
          [
           "Kolkata",
           "Delhi"
          ],
          [
           "Chennai",
           "Bangalore"
          ],
          [
           "Bangalore",
           "Kolkata"
          ],
          [
           "Bangalore",
           "Mumbai"
          ],
          [
           "Hyderabad",
           "Kolkata"
          ],
          [
           "Hyderabad",
           "Delhi"
          ],
          [
           "Delhi",
           "Kolkata"
          ],
          [
           "Hyderabad",
           "Chennai"
          ],
          [
           "Delhi",
           "Hyderabad"
          ],
          [
           "Chennai",
           "Bangalore"
          ],
          [
           "Delhi",
           "Kolkata"
          ],
          [
           "Delhi",
           "Mumbai"
          ],
          [
           "Chennai",
           "Delhi"
          ],
          [
           "Delhi",
           "Mumbai"
          ],
          [
           "Kolkata",
           "Mumbai"
          ],
          [
           "Chennai",
           "Bangalore"
          ],
          [
           "Kolkata",
           "Hyderabad"
          ],
          [
           "Chennai",
           "Kolkata"
          ],
          [
           "Bangalore",
           "Delhi"
          ],
          [
           "Delhi",
           "Hyderabad"
          ],
          [
           "Hyderabad",
           "Delhi"
          ],
          [
           "Bangalore",
           "Kolkata"
          ],
          [
           "Bangalore",
           "Hyderabad"
          ],
          [
           "Delhi",
           "Bangalore"
          ],
          [
           "Kolkata",
           "Mumbai"
          ],
          [
           "Delhi",
           "Bangalore"
          ],
          [
           "Delhi",
           "Bangalore"
          ],
          [
           "Delhi",
           "Hyderabad"
          ],
          [
           "Hyderabad",
           "Chennai"
          ],
          [
           "Hyderabad",
           "Kolkata"
          ],
          [
           "Bangalore",
           "Chennai"
          ],
          [
           "Bangalore",
           "Delhi"
          ],
          [
           "Mumbai",
           "Chennai"
          ],
          [
           "Kolkata",
           "Bangalore"
          ],
          [
           "Chennai",
           "Delhi"
          ],
          [
           "Hyderabad",
           "Delhi"
          ],
          [
           "Delhi",
           "Kolkata"
          ],
          [
           "Delhi",
           "Kolkata"
          ],
          [
           "Bangalore",
           "Delhi"
          ],
          [
           "Kolkata",
           "Bangalore"
          ],
          [
           "Mumbai",
           "Bangalore"
          ],
          [
           "Bangalore",
           "Kolkata"
          ],
          [
           "Delhi",
           "Bangalore"
          ],
          [
           "Chennai",
           "Delhi"
          ],
          [
           "Kolkata",
           "Bangalore"
          ],
          [
           "Kolkata",
           "Chennai"
          ],
          [
           "Bangalore",
           "Mumbai"
          ],
          [
           "Delhi",
           "Kolkata"
          ],
          [
           "Delhi",
           "Mumbai"
          ],
          [
           "Bangalore",
           "Kolkata"
          ],
          [
           "Bangalore",
           "Delhi"
          ],
          [
           "Kolkata",
           "Bangalore"
          ],
          [
           "Delhi",
           "Bangalore"
          ],
          [
           "Mumbai",
           "Kolkata"
          ],
          [
           "Chennai",
           "Delhi"
          ],
          [
           "Delhi",
           "Bangalore"
          ],
          [
           "Delhi",
           "Kolkata"
          ],
          [
           "Delhi",
           "Kolkata"
          ],
          [
           "Delhi",
           "Kolkata"
          ],
          [
           "Kolkata",
           "Bangalore"
          ],
          [
           "Bangalore",
           "Kolkata"
          ],
          [
           "Bangalore",
           "Delhi"
          ],
          [
           "Bangalore",
           "Chennai"
          ],
          [
           "Delhi",
           "Chennai"
          ],
          [
           "Kolkata",
           "Mumbai"
          ],
          [
           "Chennai",
           "Hyderabad"
          ],
          [
           "Bangalore",
           "Delhi"
          ]
         ],
         "hovertemplate": "Class=Economy<br>Airline=%{x}<br>Price=%{y}<br>Source City=%{customdata[0]}<br>Destination City=%{customdata[1]}<extra></extra>",
         "legendgroup": "Economy",
         "marker": {
          "color": "#EF553B",
          "symbol": "circle"
         },
         "mode": "markers",
         "name": "Economy",
         "orientation": "v",
         "showlegend": true,
         "type": "scatter",
         "x": [
          "Vistara",
          "Vistara",
          "AirAsia",
          "Air_India",
          "Vistara",
          "Indigo",
          "AirAsia",
          "GO_FIRST",
          "Air_India",
          "GO_FIRST",
          "Indigo",
          "Indigo",
          "Vistara",
          "Vistara",
          "AirAsia",
          "Air_India",
          "AirAsia",
          "Air_India",
          "Vistara",
          "Air_India",
          "Vistara",
          "GO_FIRST",
          "AirAsia",
          "GO_FIRST",
          "AirAsia",
          "GO_FIRST",
          "Indigo",
          "Vistara",
          "Vistara",
          "Air_India",
          "GO_FIRST",
          "GO_FIRST",
          "Air_India",
          "Indigo",
          "Air_India",
          "Air_India",
          "Air_India",
          "Air_India",
          "GO_FIRST",
          "Vistara",
          "Air_India",
          "Indigo",
          "GO_FIRST",
          "Indigo",
          "Vistara",
          "Vistara",
          "AirAsia",
          "Air_India",
          "Air_India",
          "Vistara",
          "Vistara",
          "Vistara",
          "Indigo",
          "Indigo",
          "Indigo",
          "Vistara",
          "Vistara",
          "Vistara",
          "Indigo",
          "Air_India",
          "Vistara",
          "Air_India",
          "Vistara",
          "SpiceJet",
          "Air_India",
          "Air_India",
          "SpiceJet",
          "AirAsia",
          "Air_India",
          "Air_India",
          "Vistara",
          "Indigo",
          "Vistara",
          "GO_FIRST",
          "Air_India",
          "Indigo",
          "Air_India",
          "Air_India",
          "GO_FIRST",
          "GO_FIRST",
          "Vistara",
          "Air_India",
          "Air_India",
          "Vistara",
          "Indigo",
          "Air_India",
          "Vistara",
          "Vistara",
          "Indigo",
          "Indigo",
          "SpiceJet",
          "Air_India",
          "Vistara",
          "GO_FIRST",
          "Vistara",
          "SpiceJet",
          "Vistara",
          "Indigo",
          "Air_India",
          "Vistara",
          "Vistara",
          "Indigo",
          "Indigo",
          "Vistara",
          "Indigo",
          "Vistara",
          "GO_FIRST",
          "AirAsia",
          "Vistara",
          "Indigo",
          "Indigo",
          "AirAsia",
          "Indigo",
          "Vistara",
          "Vistara",
          "AirAsia",
          "GO_FIRST",
          "Air_India",
          "AirAsia",
          "Air_India",
          "SpiceJet",
          "Air_India",
          "Indigo",
          "Vistara",
          "Air_India",
          "SpiceJet",
          "Air_India",
          "Vistara",
          "Vistara",
          "Air_India",
          "Vistara",
          "Vistara",
          "Indigo",
          "Air_India",
          "Indigo",
          "Indigo",
          "Air_India",
          "GO_FIRST",
          "Air_India",
          "Indigo",
          "GO_FIRST",
          "Indigo",
          "Air_India",
          "Indigo",
          "GO_FIRST",
          "Indigo",
          "AirAsia",
          "AirAsia",
          "Indigo",
          "Air_India",
          "GO_FIRST",
          "Vistara",
          "GO_FIRST",
          "Vistara",
          "Air_India",
          "Vistara",
          "Indigo",
          "Indigo",
          "Air_India",
          "Indigo",
          "Vistara",
          "Indigo",
          "SpiceJet",
          "Air_India",
          "Vistara",
          "Vistara",
          "Indigo",
          "Vistara",
          "Vistara",
          "Vistara",
          "Indigo",
          "Air_India",
          "AirAsia",
          "GO_FIRST",
          "SpiceJet",
          "Vistara",
          "Air_India",
          "Air_India",
          "Air_India",
          "Vistara",
          "Vistara",
          "Indigo",
          "Air_India",
          "Air_India",
          "Indigo",
          "Air_India",
          "AirAsia",
          "Vistara",
          "AirAsia",
          "Indigo",
          "GO_FIRST",
          "GO_FIRST",
          "Vistara",
          "GO_FIRST",
          "Indigo",
          "Vistara",
          "Vistara",
          "Air_India",
          "AirAsia",
          "Vistara",
          "Vistara",
          "GO_FIRST",
          "Vistara",
          "Indigo",
          "Vistara",
          "Air_India",
          "Indigo",
          "Vistara",
          "GO_FIRST",
          "GO_FIRST",
          "AirAsia",
          "Indigo",
          "Vistara",
          "Vistara",
          "Air_India",
          "GO_FIRST",
          "Vistara",
          "Air_India",
          "Vistara",
          "SpiceJet",
          "Vistara",
          "GO_FIRST",
          "GO_FIRST",
          "Indigo",
          "GO_FIRST",
          "Vistara",
          "Air_India",
          "Indigo",
          "AirAsia",
          "Air_India",
          "Vistara",
          "Air_India",
          "Air_India",
          "Air_India",
          "AirAsia",
          "Indigo",
          "Vistara",
          "Vistara",
          "AirAsia",
          "GO_FIRST",
          "Air_India",
          "Vistara",
          "GO_FIRST",
          "Vistara",
          "Vistara",
          "Indigo",
          "GO_FIRST",
          "Air_India",
          "Vistara",
          "Air_India",
          "GO_FIRST",
          "Air_India",
          "Air_India",
          "Vistara",
          "Vistara",
          "Vistara",
          "Vistara",
          "GO_FIRST",
          "Air_India",
          "AirAsia",
          "Indigo",
          "Indigo",
          "Indigo",
          "Vistara",
          "Air_India",
          "AirAsia",
          "Air_India",
          "Vistara",
          "Vistara",
          "Indigo",
          "AirAsia",
          "Air_India",
          "Air_India",
          "Air_India",
          "Indigo",
          "Vistara",
          "Indigo",
          "Indigo",
          "Indigo",
          "Air_India",
          "GO_FIRST",
          "Vistara",
          "Air_India",
          "Vistara",
          "Indigo",
          "Vistara",
          "Air_India",
          "Air_India",
          "Vistara",
          "Air_India",
          "AirAsia",
          "Indigo",
          "Vistara",
          "Indigo",
          "Vistara",
          "GO_FIRST",
          "Vistara",
          "Air_India",
          "Air_India",
          "Vistara",
          "AirAsia",
          "Air_India",
          "Vistara",
          "Air_India",
          "Air_India",
          "GO_FIRST",
          "Indigo",
          "Vistara",
          "Air_India",
          "AirAsia",
          "Indigo",
          "Vistara",
          "GO_FIRST",
          "Vistara",
          "Air_India",
          "Vistara",
          "AirAsia",
          "Air_India",
          "Vistara",
          "SpiceJet",
          "AirAsia",
          "Vistara",
          "Indigo",
          "Air_India",
          "AirAsia",
          "Vistara",
          "Vistara",
          "Air_India",
          "Vistara",
          "Vistara",
          "Indigo",
          "Air_India",
          "Vistara",
          "Vistara",
          "GO_FIRST",
          "Indigo",
          "Vistara",
          "Vistara",
          "Vistara",
          "Vistara",
          "Vistara",
          "Vistara",
          "GO_FIRST",
          "AirAsia",
          "Indigo",
          "Vistara",
          "Air_India",
          "Indigo",
          "Air_India",
          "Vistara",
          "Air_India",
          "Vistara",
          "Vistara",
          "Indigo",
          "Air_India",
          "Air_India",
          "Vistara",
          "Vistara",
          "Vistara",
          "Air_India",
          "Air_India",
          "GO_FIRST",
          "Vistara",
          "SpiceJet",
          "Indigo",
          "Vistara",
          "Indigo",
          "Indigo",
          "Vistara",
          "Vistara",
          "Air_India",
          "Air_India",
          "Indigo",
          "Vistara",
          "Vistara",
          "SpiceJet",
          "Vistara",
          "AirAsia",
          "Vistara",
          "Indigo",
          "Indigo",
          "Vistara",
          "Indigo",
          "Air_India",
          "Vistara",
          "GO_FIRST",
          "Indigo",
          "GO_FIRST",
          "AirAsia",
          "Vistara",
          "Vistara",
          "AirAsia",
          "Air_India",
          "Indigo",
          "Indigo",
          "Air_India",
          "Air_India",
          "Vistara",
          "Vistara",
          "Indigo",
          "GO_FIRST",
          "Air_India",
          "Air_India",
          "Air_India",
          "AirAsia",
          "Air_India",
          "Air_India",
          "Vistara",
          "Vistara",
          "Vistara",
          "Air_India",
          "Air_India",
          "Air_India",
          "Vistara",
          "AirAsia",
          "Vistara",
          "Indigo",
          "Vistara",
          "Vistara",
          "Vistara",
          "Vistara",
          "Air_India",
          "Air_India",
          "Vistara",
          "Vistara",
          "Vistara",
          "Air_India",
          "Vistara",
          "Indigo",
          "Vistara",
          "Air_India",
          "Indigo",
          "GO_FIRST",
          "Indigo",
          "Air_India",
          "Air_India",
          "Indigo",
          "Indigo",
          "Vistara",
          "Indigo",
          "GO_FIRST",
          "Indigo",
          "Air_India",
          "Vistara",
          "Vistara",
          "Air_India",
          "GO_FIRST",
          "Indigo",
          "Indigo",
          "Vistara",
          "GO_FIRST",
          "Vistara",
          "Vistara",
          "Vistara",
          "AirAsia",
          "Air_India",
          "AirAsia",
          "Vistara",
          "Vistara",
          "Vistara",
          "GO_FIRST",
          "SpiceJet",
          "Indigo",
          "Vistara",
          "Indigo",
          "Vistara",
          "GO_FIRST",
          "Vistara",
          "AirAsia",
          "Vistara",
          "AirAsia",
          "Air_India",
          "Vistara",
          "Vistara",
          "Vistara",
          "SpiceJet",
          "Indigo",
          "Air_India",
          "Air_India",
          "Indigo",
          "Vistara",
          "SpiceJet",
          "GO_FIRST",
          "AirAsia",
          "Indigo",
          "Air_India",
          "Vistara",
          "Vistara",
          "Air_India",
          "Vistara",
          "GO_FIRST",
          "Vistara",
          "Indigo",
          "Air_India",
          "GO_FIRST",
          "Indigo",
          "Vistara",
          "Vistara",
          "Air_India",
          "Vistara",
          "Air_India",
          "Air_India",
          "SpiceJet",
          "Air_India",
          "SpiceJet",
          "GO_FIRST",
          "Indigo",
          "Indigo",
          "Indigo",
          "Vistara",
          "Indigo",
          "Vistara",
          "AirAsia",
          "Vistara",
          "Air_India",
          "Vistara",
          "Indigo",
          "Indigo",
          "AirAsia",
          "GO_FIRST",
          "Air_India",
          "Indigo",
          "Air_India",
          "Air_India",
          "SpiceJet",
          "GO_FIRST",
          "Vistara",
          "Vistara",
          "SpiceJet",
          "Vistara",
          "Air_India",
          "Indigo",
          "Vistara",
          "Indigo",
          "Air_India",
          "Air_India",
          "GO_FIRST",
          "AirAsia",
          "Vistara",
          "Vistara",
          "Indigo",
          "Vistara",
          "Indigo",
          "AirAsia",
          "Vistara",
          "Air_India",
          "Indigo",
          "Air_India",
          "Indigo",
          "Air_India",
          "Indigo",
          "SpiceJet",
          "Air_India",
          "Indigo",
          "GO_FIRST",
          "Vistara",
          "Air_India",
          "Vistara",
          "Indigo",
          "Air_India",
          "GO_FIRST",
          "Indigo",
          "Air_India",
          "Air_India",
          "Vistara",
          "Air_India",
          "Vistara",
          "AirAsia",
          "Vistara",
          "Vistara",
          "Air_India",
          "Indigo",
          "Indigo",
          "Vistara",
          "Indigo",
          "Indigo",
          "Air_India",
          "SpiceJet",
          "Indigo",
          "Vistara",
          "Air_India",
          "AirAsia",
          "Vistara",
          "SpiceJet",
          "GO_FIRST",
          "Indigo",
          "SpiceJet",
          "Indigo",
          "Vistara",
          "Air_India",
          "Vistara",
          "Indigo",
          "SpiceJet",
          "GO_FIRST",
          "Air_India",
          "Vistara",
          "Air_India",
          "GO_FIRST",
          "GO_FIRST",
          "Air_India",
          "Air_India",
          "AirAsia",
          "SpiceJet",
          "Indigo",
          "Vistara",
          "Air_India",
          "Vistara",
          "Indigo",
          "Air_India",
          "Vistara",
          "Vistara",
          "Indigo",
          "Indigo",
          "SpiceJet",
          "Vistara",
          "Indigo",
          "Air_India",
          "GO_FIRST",
          "Air_India",
          "Air_India",
          "AirAsia",
          "AirAsia",
          "AirAsia",
          "Vistara",
          "Air_India",
          "Indigo",
          "Indigo",
          "Vistara",
          "Vistara",
          "Air_India",
          "Vistara",
          "Vistara",
          "AirAsia",
          "Indigo",
          "Air_India",
          "SpiceJet",
          "Air_India",
          "AirAsia",
          "AirAsia",
          "GO_FIRST",
          "Vistara",
          "Vistara",
          "Vistara",
          "Indigo",
          "Air_India",
          "Vistara",
          "GO_FIRST",
          "Indigo",
          "Air_India",
          "Vistara",
          "Vistara",
          "GO_FIRST",
          "Indigo",
          "GO_FIRST",
          "GO_FIRST",
          "Indigo",
          "Indigo",
          "Air_India",
          "Vistara",
          "GO_FIRST",
          "AirAsia",
          "Vistara",
          "Indigo",
          "Vistara",
          "AirAsia",
          "AirAsia",
          "AirAsia",
          "Vistara",
          "GO_FIRST",
          "AirAsia",
          "Indigo",
          "Air_India",
          "Vistara",
          "Vistara",
          "Air_India",
          "Vistara",
          "SpiceJet",
          "AirAsia",
          "Indigo",
          "Vistara",
          "Vistara",
          "GO_FIRST",
          "Vistara",
          "Vistara",
          "Vistara",
          "Air_India",
          "Vistara",
          "GO_FIRST",
          "AirAsia",
          "Indigo",
          "Air_India",
          "Indigo",
          "Air_India",
          "Indigo",
          "Vistara",
          "Air_India",
          "GO_FIRST",
          "Vistara",
          "AirAsia",
          "GO_FIRST"
         ],
         "xaxis": "x",
         "y": [
          4414,
          4339,
          5220,
          4724,
          6437,
          11804,
          17621,
          4020,
          13225,
          5569,
          6489,
          1776,
          5772,
          14642,
          2056,
          3831,
          1890,
          5775,
          3334,
          10155,
          5955,
          23193,
          13840,
          3334,
          3467,
          6324,
          3245,
          6161,
          5414,
          6308,
          5942,
          4020,
          16443,
          2051,
          6756,
          5328,
          9424,
          7452,
          5817,
          7135,
          12007,
          2359,
          7958,
          5178,
          4111,
          9945,
          4498,
          4357,
          8885,
          11675,
          4416,
          6161,
          4500,
          2966,
          4453,
          4111,
          4637,
          5542,
          2339,
          6946,
          4111,
          6658,
          19879,
          6129,
          4385,
          7215,
          3000,
          3862,
          7584,
          4173,
          4249,
          8239,
          6067,
          5817,
          3048,
          4027,
          6717,
          5629,
          6389,
          2124,
          4272,
          11488,
          6764,
          9840,
          6489,
          3318,
          6287,
          11129,
          2124,
          5220,
          7425,
          8198,
          4499,
          6395,
          4755,
          6129,
          10454,
          3860,
          4363,
          6296,
          15624,
          17462,
          3862,
          6147,
          4069,
          15624,
          6488,
          1830,
          4111,
          3349,
          3457,
          3014,
          14238,
          6172,
          6287,
          5101,
          6395,
          12054,
          4915,
          4399,
          6060,
          3819,
          1694,
          16820,
          12771,
          3150,
          3016,
          7869,
          5955,
          4027,
          6122,
          5606,
          2410,
          4697,
          1714,
          3572,
          6464,
          5954,
          7471,
          4170,
          4501,
          3012,
          5114,
          13368,
          6324,
          12799,
          5953,
          5939,
          1755,
          5507,
          5177,
          15300,
          4499,
          5632,
          14388,
          6437,
          5095,
          5178,
          4672,
          6932,
          5622,
          6165,
          8903,
          3819,
          4792,
          14880,
          4453,
          4416,
          11448,
          6292,
          6412,
          5617,
          3090,
          9723,
          5715,
          12420,
          11508,
          12138,
          4095,
          3496,
          6461,
          5465,
          6308,
          7584,
          6869,
          9201,
          12780,
          4099,
          2480,
          6606,
          6294,
          6512,
          5823,
          3000,
          4729,
          4658,
          10301,
          14524,
          2480,
          4909,
          4111,
          5177,
          4637,
          3587,
          10058,
          2464,
          8442,
          7697,
          5177,
          7072,
          3862,
          3572,
          5949,
          4496,
          5943,
          8857,
          14924,
          7532,
          3334,
          10574,
          5322,
          4612,
          2201,
          3911,
          6256,
          1776,
          4144,
          5843,
          3999,
          5955,
          11823,
          4054,
          11617,
          5093,
          2074,
          5393,
          11129,
          4909,
          3393,
          3423,
          3038,
          8111,
          4205,
          4979,
          5375,
          5556,
          7487,
          4173,
          17724,
          5100,
          4452,
          16528,
          10744,
          6883,
          4111,
          5284,
          8803,
          3663,
          6759,
          2228,
          3968,
          3397,
          3788,
          7141,
          2343,
          7423,
          4969,
          16543,
          13014,
          4729,
          7484,
          13524,
          5568,
          3048,
          1966,
          12033,
          7420,
          4417,
          5178,
          4933,
          4456,
          2350,
          2476,
          7081,
          1890,
          6067,
          4122,
          5955,
          6461,
          6370,
          4570,
          4772,
          10243,
          5012,
          15204,
          4165,
          6461,
          9523,
          6200,
          14145,
          2409,
          6350,
          6821,
          5274,
          6578,
          2339,
          2835,
          4099,
          11928,
          2203,
          2309,
          11205,
          3219,
          8579,
          6117,
          7575,
          4555,
          3962,
          7141,
          5330,
          3090,
          7344,
          3000,
          7592,
          3961,
          7576,
          4672,
          7413,
          6450,
          6262,
          2057,
          17601,
          5823,
          11843,
          4827,
          2278,
          3810,
          6067,
          14052,
          13882,
          9884,
          10264,
          5942,
          7489,
          3288,
          4313,
          2271,
          12470,
          6339,
          4896,
          4357,
          7221,
          4413,
          4316,
          4235,
          5102,
          5760,
          4231,
          6067,
          17643,
          5800,
          5954,
          6032,
          4827,
          4499,
          5910,
          3834,
          4863,
          7490,
          8719,
          5502,
          6578,
          3393,
          4716,
          2150,
          17992,
          5823,
          4555,
          4348,
          6977,
          11231,
          6318,
          5399,
          6502,
          9405,
          3423,
          8919,
          6319,
          2201,
          5937,
          9349,
          6131,
          4363,
          8396,
          2482,
          13314,
          8988,
          6133,
          3811,
          8253,
          5618,
          9390,
          4030,
          6024,
          3014,
          6200,
          6620,
          6450,
          5760,
          12728,
          4417,
          4593,
          4637,
          11129,
          5953,
          4761,
          3860,
          11664,
          16023,
          6450,
          6287,
          6339,
          3916,
          4436,
          3971,
          8794,
          5955,
          15930,
          21685,
          10680,
          5279,
          8043,
          7790,
          1776,
          12813,
          5888,
          5017,
          2343,
          6854,
          8705,
          5067,
          6133,
          11928,
          6287,
          4111,
          15729,
          4601,
          7950,
          3999,
          6122,
          11299,
          6437,
          5441,
          2914,
          4499,
          5144,
          2074,
          12880,
          16035,
          5322,
          5954,
          5955,
          1788,
          4111,
          5955,
          6271,
          4262,
          5606,
          4867,
          4672,
          11205,
          4484,
          9734,
          7639,
          7221,
          4000,
          4515,
          3959,
          5591,
          5955,
          5632,
          7518,
          12873,
          7353,
          2410,
          3610,
          6009,
          8112,
          13616,
          17073,
          4612,
          4672,
          2057,
          5502,
          4262,
          3381,
          5206,
          4496,
          11520,
          10495,
          13332,
          5303,
          2276,
          3885,
          14734,
          4499,
          5178,
          2057,
          3223,
          4674,
          5012,
          4099,
          2124,
          8867,
          6237,
          6568,
          3393,
          5293,
          9736,
          5303,
          7032,
          2410,
          9146,
          6158,
          6488,
          3568,
          4359,
          4272,
          9902,
          7081,
          13524,
          6489,
          4792,
          3968,
          12684,
          5523,
          5696,
          10300,
          7021,
          6740,
          4500,
          6287,
          3361,
          5485,
          6067,
          7112,
          2339,
          3675,
          3245,
          4728,
          1654,
          2621,
          5491,
          4500,
          7424,
          8277,
          4417,
          5441,
          13766,
          5950,
          10738,
          4515,
          7288,
          3988,
          10783,
          10164,
          3471,
          3393,
          5414,
          4663,
          4977,
          3873,
          3788,
          4502,
          6224,
          4969,
          4960,
          7958,
          17831,
          5761,
          6888,
          3197,
          10069,
          4876,
          6324,
          5699,
          4048,
          2124,
          16423,
          25833,
          11205,
          2482,
          5550,
          5954,
          11593,
          10018,
          3563,
          11295,
          1714,
          6840,
          3318,
          3499,
          7412,
          3381,
          11335,
          10680,
          12435,
          3551,
          4229,
          8148,
          7081,
          8288,
          10260,
          5654,
          3496,
          4453,
          6840,
          4020,
          3501,
          5102,
          3862,
          4499,
          2056,
          4496,
          10542,
          14838,
          7950,
          9828,
          13410,
          3819,
          8433,
          6458,
          6487,
          7119,
          29508,
          5890,
          6578,
          2449,
          2228,
          5954,
          6287,
          5761,
          4656,
          3999,
          8592,
          7338,
          5087,
          4377,
          8081,
          9824,
          13122,
          4028,
          4708,
          5720,
          5177,
          2343,
          4007,
          5102,
          4496,
          4020,
          4139,
          10225,
          5293,
          4672,
          4498,
          1890,
          4555,
          11868,
          6132,
          3999,
          3754,
          10744,
          8111,
          6450,
          5536,
          10785,
          7352,
          15663,
          4297,
          6568,
          6578,
          8275,
          6271,
          4111,
          6195,
          3610,
          5949,
          4876,
          4499,
          3999,
          4559,
          5955,
          7474,
          4477,
          4796,
          14524,
          4896,
          7971,
          1105,
          3466
         ],
         "yaxis": "y"
        }
       ],
       "layout": {
        "legend": {
         "title": {
          "text": "Class"
         },
         "tracegroupgap": 0
        },
        "template": {
         "data": {
          "bar": [
           {
            "error_x": {
             "color": "#2a3f5f"
            },
            "error_y": {
             "color": "#2a3f5f"
            },
            "marker": {
             "line": {
              "color": "#E5ECF6",
              "width": 0.5
             },
             "pattern": {
              "fillmode": "overlay",
              "size": 10,
              "solidity": 0.2
             }
            },
            "type": "bar"
           }
          ],
          "barpolar": [
           {
            "marker": {
             "line": {
              "color": "#E5ECF6",
              "width": 0.5
             },
             "pattern": {
              "fillmode": "overlay",
              "size": 10,
              "solidity": 0.2
             }
            },
            "type": "barpolar"
           }
          ],
          "carpet": [
           {
            "aaxis": {
             "endlinecolor": "#2a3f5f",
             "gridcolor": "white",
             "linecolor": "white",
             "minorgridcolor": "white",
             "startlinecolor": "#2a3f5f"
            },
            "baxis": {
             "endlinecolor": "#2a3f5f",
             "gridcolor": "white",
             "linecolor": "white",
             "minorgridcolor": "white",
             "startlinecolor": "#2a3f5f"
            },
            "type": "carpet"
           }
          ],
          "choropleth": [
           {
            "colorbar": {
             "outlinewidth": 0,
             "ticks": ""
            },
            "type": "choropleth"
           }
          ],
          "contour": [
           {
            "colorbar": {
             "outlinewidth": 0,
             "ticks": ""
            },
            "colorscale": [
             [
              0,
              "#0d0887"
             ],
             [
              0.1111111111111111,
              "#46039f"
             ],
             [
              0.2222222222222222,
              "#7201a8"
             ],
             [
              0.3333333333333333,
              "#9c179e"
             ],
             [
              0.4444444444444444,
              "#bd3786"
             ],
             [
              0.5555555555555556,
              "#d8576b"
             ],
             [
              0.6666666666666666,
              "#ed7953"
             ],
             [
              0.7777777777777778,
              "#fb9f3a"
             ],
             [
              0.8888888888888888,
              "#fdca26"
             ],
             [
              1,
              "#f0f921"
             ]
            ],
            "type": "contour"
           }
          ],
          "contourcarpet": [
           {
            "colorbar": {
             "outlinewidth": 0,
             "ticks": ""
            },
            "type": "contourcarpet"
           }
          ],
          "heatmap": [
           {
            "colorbar": {
             "outlinewidth": 0,
             "ticks": ""
            },
            "colorscale": [
             [
              0,
              "#0d0887"
             ],
             [
              0.1111111111111111,
              "#46039f"
             ],
             [
              0.2222222222222222,
              "#7201a8"
             ],
             [
              0.3333333333333333,
              "#9c179e"
             ],
             [
              0.4444444444444444,
              "#bd3786"
             ],
             [
              0.5555555555555556,
              "#d8576b"
             ],
             [
              0.6666666666666666,
              "#ed7953"
             ],
             [
              0.7777777777777778,
              "#fb9f3a"
             ],
             [
              0.8888888888888888,
              "#fdca26"
             ],
             [
              1,
              "#f0f921"
             ]
            ],
            "type": "heatmap"
           }
          ],
          "heatmapgl": [
           {
            "colorbar": {
             "outlinewidth": 0,
             "ticks": ""
            },
            "colorscale": [
             [
              0,
              "#0d0887"
             ],
             [
              0.1111111111111111,
              "#46039f"
             ],
             [
              0.2222222222222222,
              "#7201a8"
             ],
             [
              0.3333333333333333,
              "#9c179e"
             ],
             [
              0.4444444444444444,
              "#bd3786"
             ],
             [
              0.5555555555555556,
              "#d8576b"
             ],
             [
              0.6666666666666666,
              "#ed7953"
             ],
             [
              0.7777777777777778,
              "#fb9f3a"
             ],
             [
              0.8888888888888888,
              "#fdca26"
             ],
             [
              1,
              "#f0f921"
             ]
            ],
            "type": "heatmapgl"
           }
          ],
          "histogram": [
           {
            "marker": {
             "pattern": {
              "fillmode": "overlay",
              "size": 10,
              "solidity": 0.2
             }
            },
            "type": "histogram"
           }
          ],
          "histogram2d": [
           {
            "colorbar": {
             "outlinewidth": 0,
             "ticks": ""
            },
            "colorscale": [
             [
              0,
              "#0d0887"
             ],
             [
              0.1111111111111111,
              "#46039f"
             ],
             [
              0.2222222222222222,
              "#7201a8"
             ],
             [
              0.3333333333333333,
              "#9c179e"
             ],
             [
              0.4444444444444444,
              "#bd3786"
             ],
             [
              0.5555555555555556,
              "#d8576b"
             ],
             [
              0.6666666666666666,
              "#ed7953"
             ],
             [
              0.7777777777777778,
              "#fb9f3a"
             ],
             [
              0.8888888888888888,
              "#fdca26"
             ],
             [
              1,
              "#f0f921"
             ]
            ],
            "type": "histogram2d"
           }
          ],
          "histogram2dcontour": [
           {
            "colorbar": {
             "outlinewidth": 0,
             "ticks": ""
            },
            "colorscale": [
             [
              0,
              "#0d0887"
             ],
             [
              0.1111111111111111,
              "#46039f"
             ],
             [
              0.2222222222222222,
              "#7201a8"
             ],
             [
              0.3333333333333333,
              "#9c179e"
             ],
             [
              0.4444444444444444,
              "#bd3786"
             ],
             [
              0.5555555555555556,
              "#d8576b"
             ],
             [
              0.6666666666666666,
              "#ed7953"
             ],
             [
              0.7777777777777778,
              "#fb9f3a"
             ],
             [
              0.8888888888888888,
              "#fdca26"
             ],
             [
              1,
              "#f0f921"
             ]
            ],
            "type": "histogram2dcontour"
           }
          ],
          "mesh3d": [
           {
            "colorbar": {
             "outlinewidth": 0,
             "ticks": ""
            },
            "type": "mesh3d"
           }
          ],
          "parcoords": [
           {
            "line": {
             "colorbar": {
              "outlinewidth": 0,
              "ticks": ""
             }
            },
            "type": "parcoords"
           }
          ],
          "pie": [
           {
            "automargin": true,
            "type": "pie"
           }
          ],
          "scatter": [
           {
            "fillpattern": {
             "fillmode": "overlay",
             "size": 10,
             "solidity": 0.2
            },
            "type": "scatter"
           }
          ],
          "scatter3d": [
           {
            "line": {
             "colorbar": {
              "outlinewidth": 0,
              "ticks": ""
             }
            },
            "marker": {
             "colorbar": {
              "outlinewidth": 0,
              "ticks": ""
             }
            },
            "type": "scatter3d"
           }
          ],
          "scattercarpet": [
           {
            "marker": {
             "colorbar": {
              "outlinewidth": 0,
              "ticks": ""
             }
            },
            "type": "scattercarpet"
           }
          ],
          "scattergeo": [
           {
            "marker": {
             "colorbar": {
              "outlinewidth": 0,
              "ticks": ""
             }
            },
            "type": "scattergeo"
           }
          ],
          "scattergl": [
           {
            "marker": {
             "colorbar": {
              "outlinewidth": 0,
              "ticks": ""
             }
            },
            "type": "scattergl"
           }
          ],
          "scattermapbox": [
           {
            "marker": {
             "colorbar": {
              "outlinewidth": 0,
              "ticks": ""
             }
            },
            "type": "scattermapbox"
           }
          ],
          "scatterpolar": [
           {
            "marker": {
             "colorbar": {
              "outlinewidth": 0,
              "ticks": ""
             }
            },
            "type": "scatterpolar"
           }
          ],
          "scatterpolargl": [
           {
            "marker": {
             "colorbar": {
              "outlinewidth": 0,
              "ticks": ""
             }
            },
            "type": "scatterpolargl"
           }
          ],
          "scatterternary": [
           {
            "marker": {
             "colorbar": {
              "outlinewidth": 0,
              "ticks": ""
             }
            },
            "type": "scatterternary"
           }
          ],
          "surface": [
           {
            "colorbar": {
             "outlinewidth": 0,
             "ticks": ""
            },
            "colorscale": [
             [
              0,
              "#0d0887"
             ],
             [
              0.1111111111111111,
              "#46039f"
             ],
             [
              0.2222222222222222,
              "#7201a8"
             ],
             [
              0.3333333333333333,
              "#9c179e"
             ],
             [
              0.4444444444444444,
              "#bd3786"
             ],
             [
              0.5555555555555556,
              "#d8576b"
             ],
             [
              0.6666666666666666,
              "#ed7953"
             ],
             [
              0.7777777777777778,
              "#fb9f3a"
             ],
             [
              0.8888888888888888,
              "#fdca26"
             ],
             [
              1,
              "#f0f921"
             ]
            ],
            "type": "surface"
           }
          ],
          "table": [
           {
            "cells": {
             "fill": {
              "color": "#EBF0F8"
             },
             "line": {
              "color": "white"
             }
            },
            "header": {
             "fill": {
              "color": "#C8D4E3"
             },
             "line": {
              "color": "white"
             }
            },
            "type": "table"
           }
          ]
         },
         "layout": {
          "annotationdefaults": {
           "arrowcolor": "#2a3f5f",
           "arrowhead": 0,
           "arrowwidth": 1
          },
          "autotypenumbers": "strict",
          "coloraxis": {
           "colorbar": {
            "outlinewidth": 0,
            "ticks": ""
           }
          },
          "colorscale": {
           "diverging": [
            [
             0,
             "#8e0152"
            ],
            [
             0.1,
             "#c51b7d"
            ],
            [
             0.2,
             "#de77ae"
            ],
            [
             0.3,
             "#f1b6da"
            ],
            [
             0.4,
             "#fde0ef"
            ],
            [
             0.5,
             "#f7f7f7"
            ],
            [
             0.6,
             "#e6f5d0"
            ],
            [
             0.7,
             "#b8e186"
            ],
            [
             0.8,
             "#7fbc41"
            ],
            [
             0.9,
             "#4d9221"
            ],
            [
             1,
             "#276419"
            ]
           ],
           "sequential": [
            [
             0,
             "#0d0887"
            ],
            [
             0.1111111111111111,
             "#46039f"
            ],
            [
             0.2222222222222222,
             "#7201a8"
            ],
            [
             0.3333333333333333,
             "#9c179e"
            ],
            [
             0.4444444444444444,
             "#bd3786"
            ],
            [
             0.5555555555555556,
             "#d8576b"
            ],
            [
             0.6666666666666666,
             "#ed7953"
            ],
            [
             0.7777777777777778,
             "#fb9f3a"
            ],
            [
             0.8888888888888888,
             "#fdca26"
            ],
            [
             1,
             "#f0f921"
            ]
           ],
           "sequentialminus": [
            [
             0,
             "#0d0887"
            ],
            [
             0.1111111111111111,
             "#46039f"
            ],
            [
             0.2222222222222222,
             "#7201a8"
            ],
            [
             0.3333333333333333,
             "#9c179e"
            ],
            [
             0.4444444444444444,
             "#bd3786"
            ],
            [
             0.5555555555555556,
             "#d8576b"
            ],
            [
             0.6666666666666666,
             "#ed7953"
            ],
            [
             0.7777777777777778,
             "#fb9f3a"
            ],
            [
             0.8888888888888888,
             "#fdca26"
            ],
            [
             1,
             "#f0f921"
            ]
           ]
          },
          "colorway": [
           "#636efa",
           "#EF553B",
           "#00cc96",
           "#ab63fa",
           "#FFA15A",
           "#19d3f3",
           "#FF6692",
           "#B6E880",
           "#FF97FF",
           "#FECB52"
          ],
          "font": {
           "color": "#2a3f5f"
          },
          "geo": {
           "bgcolor": "white",
           "lakecolor": "white",
           "landcolor": "#E5ECF6",
           "showlakes": true,
           "showland": true,
           "subunitcolor": "white"
          },
          "hoverlabel": {
           "align": "left"
          },
          "hovermode": "closest",
          "mapbox": {
           "style": "light"
          },
          "paper_bgcolor": "white",
          "plot_bgcolor": "#E5ECF6",
          "polar": {
           "angularaxis": {
            "gridcolor": "white",
            "linecolor": "white",
            "ticks": ""
           },
           "bgcolor": "#E5ECF6",
           "radialaxis": {
            "gridcolor": "white",
            "linecolor": "white",
            "ticks": ""
           }
          },
          "scene": {
           "xaxis": {
            "backgroundcolor": "#E5ECF6",
            "gridcolor": "white",
            "gridwidth": 2,
            "linecolor": "white",
            "showbackground": true,
            "ticks": "",
            "zerolinecolor": "white"
           },
           "yaxis": {
            "backgroundcolor": "#E5ECF6",
            "gridcolor": "white",
            "gridwidth": 2,
            "linecolor": "white",
            "showbackground": true,
            "ticks": "",
            "zerolinecolor": "white"
           },
           "zaxis": {
            "backgroundcolor": "#E5ECF6",
            "gridcolor": "white",
            "gridwidth": 2,
            "linecolor": "white",
            "showbackground": true,
            "ticks": "",
            "zerolinecolor": "white"
           }
          },
          "shapedefaults": {
           "line": {
            "color": "#2a3f5f"
           }
          },
          "ternary": {
           "aaxis": {
            "gridcolor": "white",
            "linecolor": "white",
            "ticks": ""
           },
           "baxis": {
            "gridcolor": "white",
            "linecolor": "white",
            "ticks": ""
           },
           "bgcolor": "#E5ECF6",
           "caxis": {
            "gridcolor": "white",
            "linecolor": "white",
            "ticks": ""
           }
          },
          "title": {
           "x": 0.05
          },
          "xaxis": {
           "automargin": true,
           "gridcolor": "white",
           "linecolor": "white",
           "ticks": "",
           "title": {
            "standoff": 15
           },
           "zerolinecolor": "white",
           "zerolinewidth": 2
          },
          "yaxis": {
           "automargin": true,
           "gridcolor": "white",
           "linecolor": "white",
           "ticks": "",
           "title": {
            "standoff": 15
           },
           "zerolinecolor": "white",
           "zerolinewidth": 2
          }
         }
        },
        "title": {
         "text": "Flight Prices by Airline and Class"
        },
        "xaxis": {
         "anchor": "y",
         "categoryorder": "total descending",
         "domain": [
          0,
          1
         ],
         "title": {
          "standoff": 10,
          "text": "Airline"
         }
        },
        "yaxis": {
         "anchor": "x",
         "domain": [
          0,
          1
         ],
         "tickprefix": "$",
         "title": {
          "text": "Price"
         }
        }
       }
      }
     },
     "metadata": {},
     "output_type": "display_data"
    },
    {
     "data": {
      "application/vnd.plotly.v1+json": {
       "config": {
        "plotlyServerURL": "https://plot.ly"
       },
       "data": [
        {
         "alignmentgroup": "True",
         "hovertemplate": "Class=Economy<br>Airline=%{x}<br>Average Price=%{y}<extra></extra>",
         "legendgroup": "Economy",
         "marker": {
          "color": "blue",
          "pattern": {
           "shape": ""
          }
         },
         "name": "Economy",
         "offsetgroup": "Economy",
         "orientation": "v",
         "showlegend": true,
         "textposition": "auto",
         "type": "bar",
         "x": [
          "AirAsia",
          "Air_India",
          "GO_FIRST",
          "Indigo",
          "SpiceJet",
          "Vistara"
         ],
         "xaxis": "x",
         "y": [
          4091.0727419555224,
          7313.682168604409,
          5652.007595045959,
          5324.216303339517,
          6179.278881367218,
          7806.943645012636
         ],
         "yaxis": "y"
        },
        {
         "alignmentgroup": "True",
         "hovertemplate": "Class=Business<br>Airline=%{x}<br>Average Price=%{y}<extra></extra>",
         "legendgroup": "Business",
         "marker": {
          "color": "red",
          "pattern": {
           "shape": ""
          }
         },
         "name": "Business",
         "offsetgroup": "Business",
         "orientation": "v",
         "showlegend": true,
         "textposition": "auto",
         "type": "bar",
         "x": [
          "Air_India",
          "Vistara"
         ],
         "xaxis": "x",
         "y": [
          47131.03921211016,
          55477.027777319316
         ],
         "yaxis": "y"
        }
       ],
       "layout": {
        "barmode": "group",
        "legend": {
         "title": {
          "text": "Class"
         },
         "tracegroupgap": 0
        },
        "template": {
         "data": {
          "bar": [
           {
            "error_x": {
             "color": "#2a3f5f"
            },
            "error_y": {
             "color": "#2a3f5f"
            },
            "marker": {
             "line": {
              "color": "#E5ECF6",
              "width": 0.5
             },
             "pattern": {
              "fillmode": "overlay",
              "size": 10,
              "solidity": 0.2
             }
            },
            "type": "bar"
           }
          ],
          "barpolar": [
           {
            "marker": {
             "line": {
              "color": "#E5ECF6",
              "width": 0.5
             },
             "pattern": {
              "fillmode": "overlay",
              "size": 10,
              "solidity": 0.2
             }
            },
            "type": "barpolar"
           }
          ],
          "carpet": [
           {
            "aaxis": {
             "endlinecolor": "#2a3f5f",
             "gridcolor": "white",
             "linecolor": "white",
             "minorgridcolor": "white",
             "startlinecolor": "#2a3f5f"
            },
            "baxis": {
             "endlinecolor": "#2a3f5f",
             "gridcolor": "white",
             "linecolor": "white",
             "minorgridcolor": "white",
             "startlinecolor": "#2a3f5f"
            },
            "type": "carpet"
           }
          ],
          "choropleth": [
           {
            "colorbar": {
             "outlinewidth": 0,
             "ticks": ""
            },
            "type": "choropleth"
           }
          ],
          "contour": [
           {
            "colorbar": {
             "outlinewidth": 0,
             "ticks": ""
            },
            "colorscale": [
             [
              0,
              "#0d0887"
             ],
             [
              0.1111111111111111,
              "#46039f"
             ],
             [
              0.2222222222222222,
              "#7201a8"
             ],
             [
              0.3333333333333333,
              "#9c179e"
             ],
             [
              0.4444444444444444,
              "#bd3786"
             ],
             [
              0.5555555555555556,
              "#d8576b"
             ],
             [
              0.6666666666666666,
              "#ed7953"
             ],
             [
              0.7777777777777778,
              "#fb9f3a"
             ],
             [
              0.8888888888888888,
              "#fdca26"
             ],
             [
              1,
              "#f0f921"
             ]
            ],
            "type": "contour"
           }
          ],
          "contourcarpet": [
           {
            "colorbar": {
             "outlinewidth": 0,
             "ticks": ""
            },
            "type": "contourcarpet"
           }
          ],
          "heatmap": [
           {
            "colorbar": {
             "outlinewidth": 0,
             "ticks": ""
            },
            "colorscale": [
             [
              0,
              "#0d0887"
             ],
             [
              0.1111111111111111,
              "#46039f"
             ],
             [
              0.2222222222222222,
              "#7201a8"
             ],
             [
              0.3333333333333333,
              "#9c179e"
             ],
             [
              0.4444444444444444,
              "#bd3786"
             ],
             [
              0.5555555555555556,
              "#d8576b"
             ],
             [
              0.6666666666666666,
              "#ed7953"
             ],
             [
              0.7777777777777778,
              "#fb9f3a"
             ],
             [
              0.8888888888888888,
              "#fdca26"
             ],
             [
              1,
              "#f0f921"
             ]
            ],
            "type": "heatmap"
           }
          ],
          "heatmapgl": [
           {
            "colorbar": {
             "outlinewidth": 0,
             "ticks": ""
            },
            "colorscale": [
             [
              0,
              "#0d0887"
             ],
             [
              0.1111111111111111,
              "#46039f"
             ],
             [
              0.2222222222222222,
              "#7201a8"
             ],
             [
              0.3333333333333333,
              "#9c179e"
             ],
             [
              0.4444444444444444,
              "#bd3786"
             ],
             [
              0.5555555555555556,
              "#d8576b"
             ],
             [
              0.6666666666666666,
              "#ed7953"
             ],
             [
              0.7777777777777778,
              "#fb9f3a"
             ],
             [
              0.8888888888888888,
              "#fdca26"
             ],
             [
              1,
              "#f0f921"
             ]
            ],
            "type": "heatmapgl"
           }
          ],
          "histogram": [
           {
            "marker": {
             "pattern": {
              "fillmode": "overlay",
              "size": 10,
              "solidity": 0.2
             }
            },
            "type": "histogram"
           }
          ],
          "histogram2d": [
           {
            "colorbar": {
             "outlinewidth": 0,
             "ticks": ""
            },
            "colorscale": [
             [
              0,
              "#0d0887"
             ],
             [
              0.1111111111111111,
              "#46039f"
             ],
             [
              0.2222222222222222,
              "#7201a8"
             ],
             [
              0.3333333333333333,
              "#9c179e"
             ],
             [
              0.4444444444444444,
              "#bd3786"
             ],
             [
              0.5555555555555556,
              "#d8576b"
             ],
             [
              0.6666666666666666,
              "#ed7953"
             ],
             [
              0.7777777777777778,
              "#fb9f3a"
             ],
             [
              0.8888888888888888,
              "#fdca26"
             ],
             [
              1,
              "#f0f921"
             ]
            ],
            "type": "histogram2d"
           }
          ],
          "histogram2dcontour": [
           {
            "colorbar": {
             "outlinewidth": 0,
             "ticks": ""
            },
            "colorscale": [
             [
              0,
              "#0d0887"
             ],
             [
              0.1111111111111111,
              "#46039f"
             ],
             [
              0.2222222222222222,
              "#7201a8"
             ],
             [
              0.3333333333333333,
              "#9c179e"
             ],
             [
              0.4444444444444444,
              "#bd3786"
             ],
             [
              0.5555555555555556,
              "#d8576b"
             ],
             [
              0.6666666666666666,
              "#ed7953"
             ],
             [
              0.7777777777777778,
              "#fb9f3a"
             ],
             [
              0.8888888888888888,
              "#fdca26"
             ],
             [
              1,
              "#f0f921"
             ]
            ],
            "type": "histogram2dcontour"
           }
          ],
          "mesh3d": [
           {
            "colorbar": {
             "outlinewidth": 0,
             "ticks": ""
            },
            "type": "mesh3d"
           }
          ],
          "parcoords": [
           {
            "line": {
             "colorbar": {
              "outlinewidth": 0,
              "ticks": ""
             }
            },
            "type": "parcoords"
           }
          ],
          "pie": [
           {
            "automargin": true,
            "type": "pie"
           }
          ],
          "scatter": [
           {
            "fillpattern": {
             "fillmode": "overlay",
             "size": 10,
             "solidity": 0.2
            },
            "type": "scatter"
           }
          ],
          "scatter3d": [
           {
            "line": {
             "colorbar": {
              "outlinewidth": 0,
              "ticks": ""
             }
            },
            "marker": {
             "colorbar": {
              "outlinewidth": 0,
              "ticks": ""
             }
            },
            "type": "scatter3d"
           }
          ],
          "scattercarpet": [
           {
            "marker": {
             "colorbar": {
              "outlinewidth": 0,
              "ticks": ""
             }
            },
            "type": "scattercarpet"
           }
          ],
          "scattergeo": [
           {
            "marker": {
             "colorbar": {
              "outlinewidth": 0,
              "ticks": ""
             }
            },
            "type": "scattergeo"
           }
          ],
          "scattergl": [
           {
            "marker": {
             "colorbar": {
              "outlinewidth": 0,
              "ticks": ""
             }
            },
            "type": "scattergl"
           }
          ],
          "scattermapbox": [
           {
            "marker": {
             "colorbar": {
              "outlinewidth": 0,
              "ticks": ""
             }
            },
            "type": "scattermapbox"
           }
          ],
          "scatterpolar": [
           {
            "marker": {
             "colorbar": {
              "outlinewidth": 0,
              "ticks": ""
             }
            },
            "type": "scatterpolar"
           }
          ],
          "scatterpolargl": [
           {
            "marker": {
             "colorbar": {
              "outlinewidth": 0,
              "ticks": ""
             }
            },
            "type": "scatterpolargl"
           }
          ],
          "scatterternary": [
           {
            "marker": {
             "colorbar": {
              "outlinewidth": 0,
              "ticks": ""
             }
            },
            "type": "scatterternary"
           }
          ],
          "surface": [
           {
            "colorbar": {
             "outlinewidth": 0,
             "ticks": ""
            },
            "colorscale": [
             [
              0,
              "#0d0887"
             ],
             [
              0.1111111111111111,
              "#46039f"
             ],
             [
              0.2222222222222222,
              "#7201a8"
             ],
             [
              0.3333333333333333,
              "#9c179e"
             ],
             [
              0.4444444444444444,
              "#bd3786"
             ],
             [
              0.5555555555555556,
              "#d8576b"
             ],
             [
              0.6666666666666666,
              "#ed7953"
             ],
             [
              0.7777777777777778,
              "#fb9f3a"
             ],
             [
              0.8888888888888888,
              "#fdca26"
             ],
             [
              1,
              "#f0f921"
             ]
            ],
            "type": "surface"
           }
          ],
          "table": [
           {
            "cells": {
             "fill": {
              "color": "#EBF0F8"
             },
             "line": {
              "color": "white"
             }
            },
            "header": {
             "fill": {
              "color": "#C8D4E3"
             },
             "line": {
              "color": "white"
             }
            },
            "type": "table"
           }
          ]
         },
         "layout": {
          "annotationdefaults": {
           "arrowcolor": "#2a3f5f",
           "arrowhead": 0,
           "arrowwidth": 1
          },
          "autotypenumbers": "strict",
          "coloraxis": {
           "colorbar": {
            "outlinewidth": 0,
            "ticks": ""
           }
          },
          "colorscale": {
           "diverging": [
            [
             0,
             "#8e0152"
            ],
            [
             0.1,
             "#c51b7d"
            ],
            [
             0.2,
             "#de77ae"
            ],
            [
             0.3,
             "#f1b6da"
            ],
            [
             0.4,
             "#fde0ef"
            ],
            [
             0.5,
             "#f7f7f7"
            ],
            [
             0.6,
             "#e6f5d0"
            ],
            [
             0.7,
             "#b8e186"
            ],
            [
             0.8,
             "#7fbc41"
            ],
            [
             0.9,
             "#4d9221"
            ],
            [
             1,
             "#276419"
            ]
           ],
           "sequential": [
            [
             0,
             "#0d0887"
            ],
            [
             0.1111111111111111,
             "#46039f"
            ],
            [
             0.2222222222222222,
             "#7201a8"
            ],
            [
             0.3333333333333333,
             "#9c179e"
            ],
            [
             0.4444444444444444,
             "#bd3786"
            ],
            [
             0.5555555555555556,
             "#d8576b"
            ],
            [
             0.6666666666666666,
             "#ed7953"
            ],
            [
             0.7777777777777778,
             "#fb9f3a"
            ],
            [
             0.8888888888888888,
             "#fdca26"
            ],
            [
             1,
             "#f0f921"
            ]
           ],
           "sequentialminus": [
            [
             0,
             "#0d0887"
            ],
            [
             0.1111111111111111,
             "#46039f"
            ],
            [
             0.2222222222222222,
             "#7201a8"
            ],
            [
             0.3333333333333333,
             "#9c179e"
            ],
            [
             0.4444444444444444,
             "#bd3786"
            ],
            [
             0.5555555555555556,
             "#d8576b"
            ],
            [
             0.6666666666666666,
             "#ed7953"
            ],
            [
             0.7777777777777778,
             "#fb9f3a"
            ],
            [
             0.8888888888888888,
             "#fdca26"
            ],
            [
             1,
             "#f0f921"
            ]
           ]
          },
          "colorway": [
           "#636efa",
           "#EF553B",
           "#00cc96",
           "#ab63fa",
           "#FFA15A",
           "#19d3f3",
           "#FF6692",
           "#B6E880",
           "#FF97FF",
           "#FECB52"
          ],
          "font": {
           "color": "#2a3f5f"
          },
          "geo": {
           "bgcolor": "white",
           "lakecolor": "white",
           "landcolor": "#E5ECF6",
           "showlakes": true,
           "showland": true,
           "subunitcolor": "white"
          },
          "hoverlabel": {
           "align": "left"
          },
          "hovermode": "closest",
          "mapbox": {
           "style": "light"
          },
          "paper_bgcolor": "white",
          "plot_bgcolor": "#E5ECF6",
          "polar": {
           "angularaxis": {
            "gridcolor": "white",
            "linecolor": "white",
            "ticks": ""
           },
           "bgcolor": "#E5ECF6",
           "radialaxis": {
            "gridcolor": "white",
            "linecolor": "white",
            "ticks": ""
           }
          },
          "scene": {
           "xaxis": {
            "backgroundcolor": "#E5ECF6",
            "gridcolor": "white",
            "gridwidth": 2,
            "linecolor": "white",
            "showbackground": true,
            "ticks": "",
            "zerolinecolor": "white"
           },
           "yaxis": {
            "backgroundcolor": "#E5ECF6",
            "gridcolor": "white",
            "gridwidth": 2,
            "linecolor": "white",
            "showbackground": true,
            "ticks": "",
            "zerolinecolor": "white"
           },
           "zaxis": {
            "backgroundcolor": "#E5ECF6",
            "gridcolor": "white",
            "gridwidth": 2,
            "linecolor": "white",
            "showbackground": true,
            "ticks": "",
            "zerolinecolor": "white"
           }
          },
          "shapedefaults": {
           "line": {
            "color": "#2a3f5f"
           }
          },
          "ternary": {
           "aaxis": {
            "gridcolor": "white",
            "linecolor": "white",
            "ticks": ""
           },
           "baxis": {
            "gridcolor": "white",
            "linecolor": "white",
            "ticks": ""
           },
           "bgcolor": "#E5ECF6",
           "caxis": {
            "gridcolor": "white",
            "linecolor": "white",
            "ticks": ""
           }
          },
          "title": {
           "x": 0.05
          },
          "xaxis": {
           "automargin": true,
           "gridcolor": "white",
           "linecolor": "white",
           "ticks": "",
           "title": {
            "standoff": 15
           },
           "zerolinecolor": "white",
           "zerolinewidth": 2
          },
          "yaxis": {
           "automargin": true,
           "gridcolor": "white",
           "linecolor": "white",
           "ticks": "",
           "title": {
            "standoff": 15
           },
           "zerolinecolor": "white",
           "zerolinewidth": 2
          }
         }
        },
        "title": {
         "text": "Average Flight Prices by Airline and Class"
        },
        "xaxis": {
         "anchor": "y",
         "domain": [
          0,
          1
         ],
         "title": {
          "text": "Airline"
         }
        },
        "yaxis": {
         "anchor": "x",
         "domain": [
          0,
          1
         ],
         "tickprefix": "$",
         "title": {
          "text": "Average Price"
         }
        }
       }
      }
     },
     "metadata": {},
     "output_type": "display_data"
    }
   ],
   "source": [
    "\n",
    "\n",
    "\n",
    "df['price'] = df['price'].replace({'\\$': '', ',': ''}, regex=True).astype(float)\n",
    "\n",
    "\n",
    "df_sampled = df.sample(n=1000)  # You can adjust the number of data points as needed\n",
    "\n",
    "\n",
    "fig_scatter = px.scatter(df_sampled, x='airline', y='price', color='class', hover_data=['source_city', 'destination_city'], \n",
    "                         title='Flight Prices by Airline and Class', labels={'airline': 'Airline', 'price': 'Price', 'class': 'Class',\n",
    "                                                                             'source_city': 'Source City', 'destination_city': 'Destination City'})\n",
    "\n",
    "\n",
    "fig_scatter.update_layout({'yaxis': {'tickprefix': '$'}})\n",
    "\n",
    "\n",
    "fig_scatter.update_layout(xaxis={'categoryorder': 'total descending'}, xaxis_title_standoff=10)\n",
    "\n",
    "\n",
    "average_prices = df.groupby(['airline', 'class'])['price'].mean().reset_index()\n",
    "\n",
    "\n",
    "fig_bar = px.bar(average_prices, x='airline', y='price', color='class', barmode='group', \n",
    "                 labels={'airline': 'Airline', 'price': 'Average Price', 'class': 'Class'},\n",
    "                 title='Average Flight Prices by Airline and Class',\n",
    "                 color_discrete_map={'Economy': 'blue', 'Business': 'red'})  # Renkleri doğru şekilde atadık\n",
    "fig_bar.update_layout({'yaxis': {'tickprefix': '$'}})  # Dolar simgesi ekledik\n",
    "\n",
    "\n",
    "fig_scatter.show()\n",
    "fig_bar.show()\n"
   ]
  },
  {
   "cell_type": "code",
   "execution_count": 30,
   "metadata": {},
   "outputs": [
    {
     "data": {
      "application/vnd.plotly.v1+json": {
       "config": {
        "plotlyServerURL": "https://plot.ly"
       },
       "data": [
        {
         "alignmentgroup": "True",
         "hovertemplate": "Destination City=%{x}<br>Average Price=%{y}<extra></extra>",
         "legendgroup": "",
         "marker": {
          "color": "#636efa",
          "pattern": {
           "shape": ""
          }
         },
         "name": "",
         "offsetgroup": "",
         "orientation": "v",
         "showlegend": false,
         "textposition": "auto",
         "type": "bar",
         "x": [
          "Bangalore",
          "Chennai",
          "Delhi",
          "Hyderabad",
          "Kolkata",
          "Mumbai"
         ],
         "xaxis": "x",
         "y": [
          21593.96,
          21953.32,
          18436.77,
          20427.66,
          21959.56,
          21372.53
         ],
         "yaxis": "y"
        }
       ],
       "layout": {
        "barmode": "relative",
        "legend": {
         "tracegroupgap": 0
        },
        "template": {
         "data": {
          "bar": [
           {
            "error_x": {
             "color": "#2a3f5f"
            },
            "error_y": {
             "color": "#2a3f5f"
            },
            "marker": {
             "line": {
              "color": "#E5ECF6",
              "width": 0.5
             },
             "pattern": {
              "fillmode": "overlay",
              "size": 10,
              "solidity": 0.2
             }
            },
            "type": "bar"
           }
          ],
          "barpolar": [
           {
            "marker": {
             "line": {
              "color": "#E5ECF6",
              "width": 0.5
             },
             "pattern": {
              "fillmode": "overlay",
              "size": 10,
              "solidity": 0.2
             }
            },
            "type": "barpolar"
           }
          ],
          "carpet": [
           {
            "aaxis": {
             "endlinecolor": "#2a3f5f",
             "gridcolor": "white",
             "linecolor": "white",
             "minorgridcolor": "white",
             "startlinecolor": "#2a3f5f"
            },
            "baxis": {
             "endlinecolor": "#2a3f5f",
             "gridcolor": "white",
             "linecolor": "white",
             "minorgridcolor": "white",
             "startlinecolor": "#2a3f5f"
            },
            "type": "carpet"
           }
          ],
          "choropleth": [
           {
            "colorbar": {
             "outlinewidth": 0,
             "ticks": ""
            },
            "type": "choropleth"
           }
          ],
          "contour": [
           {
            "colorbar": {
             "outlinewidth": 0,
             "ticks": ""
            },
            "colorscale": [
             [
              0,
              "#0d0887"
             ],
             [
              0.1111111111111111,
              "#46039f"
             ],
             [
              0.2222222222222222,
              "#7201a8"
             ],
             [
              0.3333333333333333,
              "#9c179e"
             ],
             [
              0.4444444444444444,
              "#bd3786"
             ],
             [
              0.5555555555555556,
              "#d8576b"
             ],
             [
              0.6666666666666666,
              "#ed7953"
             ],
             [
              0.7777777777777778,
              "#fb9f3a"
             ],
             [
              0.8888888888888888,
              "#fdca26"
             ],
             [
              1,
              "#f0f921"
             ]
            ],
            "type": "contour"
           }
          ],
          "contourcarpet": [
           {
            "colorbar": {
             "outlinewidth": 0,
             "ticks": ""
            },
            "type": "contourcarpet"
           }
          ],
          "heatmap": [
           {
            "colorbar": {
             "outlinewidth": 0,
             "ticks": ""
            },
            "colorscale": [
             [
              0,
              "#0d0887"
             ],
             [
              0.1111111111111111,
              "#46039f"
             ],
             [
              0.2222222222222222,
              "#7201a8"
             ],
             [
              0.3333333333333333,
              "#9c179e"
             ],
             [
              0.4444444444444444,
              "#bd3786"
             ],
             [
              0.5555555555555556,
              "#d8576b"
             ],
             [
              0.6666666666666666,
              "#ed7953"
             ],
             [
              0.7777777777777778,
              "#fb9f3a"
             ],
             [
              0.8888888888888888,
              "#fdca26"
             ],
             [
              1,
              "#f0f921"
             ]
            ],
            "type": "heatmap"
           }
          ],
          "heatmapgl": [
           {
            "colorbar": {
             "outlinewidth": 0,
             "ticks": ""
            },
            "colorscale": [
             [
              0,
              "#0d0887"
             ],
             [
              0.1111111111111111,
              "#46039f"
             ],
             [
              0.2222222222222222,
              "#7201a8"
             ],
             [
              0.3333333333333333,
              "#9c179e"
             ],
             [
              0.4444444444444444,
              "#bd3786"
             ],
             [
              0.5555555555555556,
              "#d8576b"
             ],
             [
              0.6666666666666666,
              "#ed7953"
             ],
             [
              0.7777777777777778,
              "#fb9f3a"
             ],
             [
              0.8888888888888888,
              "#fdca26"
             ],
             [
              1,
              "#f0f921"
             ]
            ],
            "type": "heatmapgl"
           }
          ],
          "histogram": [
           {
            "marker": {
             "pattern": {
              "fillmode": "overlay",
              "size": 10,
              "solidity": 0.2
             }
            },
            "type": "histogram"
           }
          ],
          "histogram2d": [
           {
            "colorbar": {
             "outlinewidth": 0,
             "ticks": ""
            },
            "colorscale": [
             [
              0,
              "#0d0887"
             ],
             [
              0.1111111111111111,
              "#46039f"
             ],
             [
              0.2222222222222222,
              "#7201a8"
             ],
             [
              0.3333333333333333,
              "#9c179e"
             ],
             [
              0.4444444444444444,
              "#bd3786"
             ],
             [
              0.5555555555555556,
              "#d8576b"
             ],
             [
              0.6666666666666666,
              "#ed7953"
             ],
             [
              0.7777777777777778,
              "#fb9f3a"
             ],
             [
              0.8888888888888888,
              "#fdca26"
             ],
             [
              1,
              "#f0f921"
             ]
            ],
            "type": "histogram2d"
           }
          ],
          "histogram2dcontour": [
           {
            "colorbar": {
             "outlinewidth": 0,
             "ticks": ""
            },
            "colorscale": [
             [
              0,
              "#0d0887"
             ],
             [
              0.1111111111111111,
              "#46039f"
             ],
             [
              0.2222222222222222,
              "#7201a8"
             ],
             [
              0.3333333333333333,
              "#9c179e"
             ],
             [
              0.4444444444444444,
              "#bd3786"
             ],
             [
              0.5555555555555556,
              "#d8576b"
             ],
             [
              0.6666666666666666,
              "#ed7953"
             ],
             [
              0.7777777777777778,
              "#fb9f3a"
             ],
             [
              0.8888888888888888,
              "#fdca26"
             ],
             [
              1,
              "#f0f921"
             ]
            ],
            "type": "histogram2dcontour"
           }
          ],
          "mesh3d": [
           {
            "colorbar": {
             "outlinewidth": 0,
             "ticks": ""
            },
            "type": "mesh3d"
           }
          ],
          "parcoords": [
           {
            "line": {
             "colorbar": {
              "outlinewidth": 0,
              "ticks": ""
             }
            },
            "type": "parcoords"
           }
          ],
          "pie": [
           {
            "automargin": true,
            "type": "pie"
           }
          ],
          "scatter": [
           {
            "fillpattern": {
             "fillmode": "overlay",
             "size": 10,
             "solidity": 0.2
            },
            "type": "scatter"
           }
          ],
          "scatter3d": [
           {
            "line": {
             "colorbar": {
              "outlinewidth": 0,
              "ticks": ""
             }
            },
            "marker": {
             "colorbar": {
              "outlinewidth": 0,
              "ticks": ""
             }
            },
            "type": "scatter3d"
           }
          ],
          "scattercarpet": [
           {
            "marker": {
             "colorbar": {
              "outlinewidth": 0,
              "ticks": ""
             }
            },
            "type": "scattercarpet"
           }
          ],
          "scattergeo": [
           {
            "marker": {
             "colorbar": {
              "outlinewidth": 0,
              "ticks": ""
             }
            },
            "type": "scattergeo"
           }
          ],
          "scattergl": [
           {
            "marker": {
             "colorbar": {
              "outlinewidth": 0,
              "ticks": ""
             }
            },
            "type": "scattergl"
           }
          ],
          "scattermapbox": [
           {
            "marker": {
             "colorbar": {
              "outlinewidth": 0,
              "ticks": ""
             }
            },
            "type": "scattermapbox"
           }
          ],
          "scatterpolar": [
           {
            "marker": {
             "colorbar": {
              "outlinewidth": 0,
              "ticks": ""
             }
            },
            "type": "scatterpolar"
           }
          ],
          "scatterpolargl": [
           {
            "marker": {
             "colorbar": {
              "outlinewidth": 0,
              "ticks": ""
             }
            },
            "type": "scatterpolargl"
           }
          ],
          "scatterternary": [
           {
            "marker": {
             "colorbar": {
              "outlinewidth": 0,
              "ticks": ""
             }
            },
            "type": "scatterternary"
           }
          ],
          "surface": [
           {
            "colorbar": {
             "outlinewidth": 0,
             "ticks": ""
            },
            "colorscale": [
             [
              0,
              "#0d0887"
             ],
             [
              0.1111111111111111,
              "#46039f"
             ],
             [
              0.2222222222222222,
              "#7201a8"
             ],
             [
              0.3333333333333333,
              "#9c179e"
             ],
             [
              0.4444444444444444,
              "#bd3786"
             ],
             [
              0.5555555555555556,
              "#d8576b"
             ],
             [
              0.6666666666666666,
              "#ed7953"
             ],
             [
              0.7777777777777778,
              "#fb9f3a"
             ],
             [
              0.8888888888888888,
              "#fdca26"
             ],
             [
              1,
              "#f0f921"
             ]
            ],
            "type": "surface"
           }
          ],
          "table": [
           {
            "cells": {
             "fill": {
              "color": "#EBF0F8"
             },
             "line": {
              "color": "white"
             }
            },
            "header": {
             "fill": {
              "color": "#C8D4E3"
             },
             "line": {
              "color": "white"
             }
            },
            "type": "table"
           }
          ]
         },
         "layout": {
          "annotationdefaults": {
           "arrowcolor": "#2a3f5f",
           "arrowhead": 0,
           "arrowwidth": 1
          },
          "autotypenumbers": "strict",
          "coloraxis": {
           "colorbar": {
            "outlinewidth": 0,
            "ticks": ""
           }
          },
          "colorscale": {
           "diverging": [
            [
             0,
             "#8e0152"
            ],
            [
             0.1,
             "#c51b7d"
            ],
            [
             0.2,
             "#de77ae"
            ],
            [
             0.3,
             "#f1b6da"
            ],
            [
             0.4,
             "#fde0ef"
            ],
            [
             0.5,
             "#f7f7f7"
            ],
            [
             0.6,
             "#e6f5d0"
            ],
            [
             0.7,
             "#b8e186"
            ],
            [
             0.8,
             "#7fbc41"
            ],
            [
             0.9,
             "#4d9221"
            ],
            [
             1,
             "#276419"
            ]
           ],
           "sequential": [
            [
             0,
             "#0d0887"
            ],
            [
             0.1111111111111111,
             "#46039f"
            ],
            [
             0.2222222222222222,
             "#7201a8"
            ],
            [
             0.3333333333333333,
             "#9c179e"
            ],
            [
             0.4444444444444444,
             "#bd3786"
            ],
            [
             0.5555555555555556,
             "#d8576b"
            ],
            [
             0.6666666666666666,
             "#ed7953"
            ],
            [
             0.7777777777777778,
             "#fb9f3a"
            ],
            [
             0.8888888888888888,
             "#fdca26"
            ],
            [
             1,
             "#f0f921"
            ]
           ],
           "sequentialminus": [
            [
             0,
             "#0d0887"
            ],
            [
             0.1111111111111111,
             "#46039f"
            ],
            [
             0.2222222222222222,
             "#7201a8"
            ],
            [
             0.3333333333333333,
             "#9c179e"
            ],
            [
             0.4444444444444444,
             "#bd3786"
            ],
            [
             0.5555555555555556,
             "#d8576b"
            ],
            [
             0.6666666666666666,
             "#ed7953"
            ],
            [
             0.7777777777777778,
             "#fb9f3a"
            ],
            [
             0.8888888888888888,
             "#fdca26"
            ],
            [
             1,
             "#f0f921"
            ]
           ]
          },
          "colorway": [
           "#636efa",
           "#EF553B",
           "#00cc96",
           "#ab63fa",
           "#FFA15A",
           "#19d3f3",
           "#FF6692",
           "#B6E880",
           "#FF97FF",
           "#FECB52"
          ],
          "font": {
           "color": "#2a3f5f"
          },
          "geo": {
           "bgcolor": "white",
           "lakecolor": "white",
           "landcolor": "#E5ECF6",
           "showlakes": true,
           "showland": true,
           "subunitcolor": "white"
          },
          "hoverlabel": {
           "align": "left"
          },
          "hovermode": "closest",
          "mapbox": {
           "style": "light"
          },
          "paper_bgcolor": "white",
          "plot_bgcolor": "#E5ECF6",
          "polar": {
           "angularaxis": {
            "gridcolor": "white",
            "linecolor": "white",
            "ticks": ""
           },
           "bgcolor": "#E5ECF6",
           "radialaxis": {
            "gridcolor": "white",
            "linecolor": "white",
            "ticks": ""
           }
          },
          "scene": {
           "xaxis": {
            "backgroundcolor": "#E5ECF6",
            "gridcolor": "white",
            "gridwidth": 2,
            "linecolor": "white",
            "showbackground": true,
            "ticks": "",
            "zerolinecolor": "white"
           },
           "yaxis": {
            "backgroundcolor": "#E5ECF6",
            "gridcolor": "white",
            "gridwidth": 2,
            "linecolor": "white",
            "showbackground": true,
            "ticks": "",
            "zerolinecolor": "white"
           },
           "zaxis": {
            "backgroundcolor": "#E5ECF6",
            "gridcolor": "white",
            "gridwidth": 2,
            "linecolor": "white",
            "showbackground": true,
            "ticks": "",
            "zerolinecolor": "white"
           }
          },
          "shapedefaults": {
           "line": {
            "color": "#2a3f5f"
           }
          },
          "ternary": {
           "aaxis": {
            "gridcolor": "white",
            "linecolor": "white",
            "ticks": ""
           },
           "baxis": {
            "gridcolor": "white",
            "linecolor": "white",
            "ticks": ""
           },
           "bgcolor": "#E5ECF6",
           "caxis": {
            "gridcolor": "white",
            "linecolor": "white",
            "ticks": ""
           }
          },
          "title": {
           "x": 0.05
          },
          "xaxis": {
           "automargin": true,
           "gridcolor": "white",
           "linecolor": "white",
           "ticks": "",
           "title": {
            "standoff": 15
           },
           "zerolinecolor": "white",
           "zerolinewidth": 2
          },
          "yaxis": {
           "automargin": true,
           "gridcolor": "white",
           "linecolor": "white",
           "ticks": "",
           "title": {
            "standoff": 15
           },
           "zerolinecolor": "white",
           "zerolinewidth": 2
          }
         }
        },
        "title": {
         "text": "Average Flight Prices by Destination City"
        },
        "xaxis": {
         "anchor": "y",
         "domain": [
          0,
          1
         ],
         "title": {
          "text": "Destination City"
         }
        },
        "yaxis": {
         "anchor": "x",
         "domain": [
          0,
          1
         ],
         "tickprefix": "$",
         "title": {
          "text": "Average Price"
         }
        }
       }
      }
     },
     "metadata": {},
     "output_type": "display_data"
    }
   ],
   "source": [
    "df['price'] = df['price'].replace({'\\$': '', ',': '', 'k': '000'}, regex=True).astype(float)\n",
    "\n",
    "# Ortalama fiyatları hesaplayıp veri çerçevesini oluşturmak\n",
    "average_prices = df.groupby(['destination_city'])['price'].mean().reset_index()\n",
    "average_prices['price'] = round(average_prices['price'], 2)  # Fiyatları 2 basamaklı yuvarlama\n",
    "\n",
    "# Bar plot ile bütün ülkelerin ortalama fiyatlarını görselleştirmek\n",
    "fig_bar = px.bar(average_prices, x='destination_city', y='price', \n",
    "                 labels={'destination_city': 'Destination City', 'price': 'Average Price'},\n",
    "                 title='Average Flight Prices by Destination City')\n",
    "\n",
    "# Düzeltme: Dolar simgesi eklemek\n",
    "fig_bar.update_layout({'yaxis': {'tickprefix': '$'}})\n",
    "\n",
    "# Show the interactive bar plot\n",
    "fig_bar.show()"
   ]
  },
  {
   "cell_type": "code",
   "execution_count": 38,
   "metadata": {},
   "outputs": [
    {
     "name": "stdout",
     "output_type": "stream",
     "text": [
      "<class 'pandas.core.frame.DataFrame'>\n",
      "RangeIndex: 300153 entries, 0 to 300152\n",
      "Data columns (total 6 columns):\n",
      " #   Column            Non-Null Count   Dtype \n",
      "---  ------            --------------   ----- \n",
      " 0   airline           300153 non-null  object\n",
      " 1   source_city       300153 non-null  object\n",
      " 2   stops             300153 non-null  object\n",
      " 3   destination_city  300153 non-null  object\n",
      " 4   class             300153 non-null  object\n",
      " 5   price             300153 non-null  int64 \n",
      "dtypes: int64(1), object(5)\n",
      "memory usage: 13.7+ MB\n",
      "None\n",
      "Modelin başarı oranı (R-kare): 0.8971137920832801\n"
     ]
    }
   ],
   "source": [
    "df = pd.read_csv(R'C:\\Users\\yigit\\OneDrive\\Belgeler\\GitHub\\FlightPricePrediction\\FlightPricePrediction.csv')\n",
    "\n",
    "\n",
    "columns_to_drop = ['Unnamed: 0','arrival_time', 'days_left','departure_time','flight','duration']\n",
    "df = df.drop(columns=columns_to_drop)\n",
    "\n",
    "print(df.info())\n",
    "\n",
    "# Eksik değerleri doldur\n",
    "df['price'].fillna(df['price'].mean(), inplace=True)\n",
    "\n",
    "# Kategorik değişkenleri label encoding yapın\n",
    "label_encoder = LabelEncoder()\n",
    "df['airline'] = label_encoder.fit_transform(df['airline'])\n",
    "df['source_city'] = label_encoder.fit_transform(df['source_city'])\n",
    "df['stops'] = label_encoder.fit_transform(df['stops'])\n",
    "df['destination_city'] = label_encoder.fit_transform(df['destination_city'])\n",
    "df['class'] = label_encoder.fit_transform(df['class'])\n",
    "\n",
    "# Bağımsız değişkenler ve hedef değişkeni belirleyin\n",
    "X = df.drop(columns=['price'])\n",
    "y = df['price']\n",
    "\n",
    "# Verileri eğitim ve test kümelerine bölelim\n",
    "X_train, X_test, y_train, y_test = train_test_split(X, y, test_size=0.2, random_state=42)\n",
    "\n",
    "# Lineer Regresyon modelini oluşturun ve eğitin\n",
    "model = LinearRegression()\n",
    "model.fit(X_train, y_train)\n",
    "\n",
    "# Test kümesi üzerinde tahminler yapın\n",
    "y_pred = model.predict(X_test)\n",
    "\n",
    "# Modelin başarı oranını değerlendirin (örneğin, R-kare)\n",
    "score = model.score(X_test, y_test)\n",
    "print(\"Modelin başarı oranı (R-kare):\", score)"
   ]
  }
 ],
 "metadata": {
  "kernelspec": {
   "display_name": "base",
   "language": "python",
   "name": "python3"
  },
  "language_info": {
   "codemirror_mode": {
    "name": "ipython",
    "version": 3
   },
   "file_extension": ".py",
   "mimetype": "text/x-python",
   "name": "python",
   "nbconvert_exporter": "python",
   "pygments_lexer": "ipython3",
   "version": "3.9.17"
  },
  "orig_nbformat": 4
 },
 "nbformat": 4,
 "nbformat_minor": 2
}
