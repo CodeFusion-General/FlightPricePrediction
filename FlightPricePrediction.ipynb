{
 "cells": [
  {
   "cell_type": "code",
   "execution_count": null,
   "metadata": {},
   "outputs": [],
   "source": [
    "import numpy as np\n",
    "import pandas as pd\n",
    "import matplotlib.pyplot as plt\n",
    "import seaborn as sns\n",
    "from sklearn.preprocessing import LabelEncoder\n",
    "import multiprocessing as mp\n"
   ]
  },
  {
   "cell_type": "code",
   "execution_count": null,
   "metadata": {},
   "outputs": [],
   "source": [
    "df = pd.read_csv('C:/Users/yigit/OneDrive/Belgeler/GitHub/FlightPricePrediction/FlightPricePrediction.csv')\n",
    "\n",
    "df"
   ]
  },
  {
   "cell_type": "markdown",
   "metadata": {},
   "source": [
    "Flight Number: Uçuş numarası, her bir uçuşun benzersiz bir kimlik numarasıdır.\n",
    "\n",
    "Airline: Uçak şirketinin adı, yani hangi havayolu şirketinin bu uçuşu gerçekleştirdiği.\n",
    "\n",
    "Flight: Uçuş kodu, genellikle havayolu şirketinin adı ve bir numara kombinasyonu olarak kullanılır.\n",
    "\n",
    "Source_city: Kalkış şehri, uçuşun nereden başladığını gösterir.\n",
    "\n",
    "Departure_time: Kalkış saati, uçağın kalkış zamanını belirtir. Bu durumda, \"Evening\" veya \"Early_Morning\" gibi terimler kullanılmış.\n",
    "\n",
    "Stops: Uçuşun duraklama sayısı. \"Zero\" duraklama yapmayacağı anlamına gelir.\n",
    "\n",
    "Arrival_time: Varış saati, uçağın hedefe ne zaman varacağını gösterir.\n",
    "\n",
    "Destination_city: Varış şehri, uçağın nereye ulaşacağını belirtir.\n",
    "\n",
    "Class: Uçuş sınıfı, yolcuların seyahat edeceği sınıfı gösterir, bu durumda \"Economy\".\n",
    "\n",
    "Duration: Uçuş süresi, kalkıştan varışa kadar olan tahmini süreyi belirtir.\n",
    "\n",
    "Days_left: Bu uçuşun kalkışına kalan gün sayısı.\n",
    "\n",
    "Price: Uçuş için belirlenmiş fiyat, yani biletin maliyeti."
   ]
  },
  {
   "cell_type": "code",
   "execution_count": null,
   "metadata": {},
   "outputs": [],
   "source": [
    "df = df.rename(columns={'Unnamed: 0': 'Flight Number'})"
   ]
  },
  {
   "cell_type": "code",
   "execution_count": null,
   "metadata": {},
   "outputs": [],
   "source": [
    "df.head()"
   ]
  },
  {
   "cell_type": "code",
   "execution_count": null,
   "metadata": {},
   "outputs": [],
   "source": [
    "df.info()"
   ]
  },
  {
   "cell_type": "code",
   "execution_count": null,
   "metadata": {},
   "outputs": [],
   "source": [
    "data = {\n",
    "    'Flight Number': [0, 1, 2, 3, 4],\n",
    "    'Class': ['Economy', 'Economy', 'Economy', 'Business', 'Business'],\n",
    "    'Price': [5953, 5953, 5956, 5955, 5955]\n",
    "}\n",
    "\n",
    "df = pd.DataFrame(data)\n",
    "\n",
    "# Business ve Economy uçuşları ayırma\n",
    "business_flights = df[df['Class'] == 'Business']\n",
    "economy_flights = df[df['Class'] == 'Economy']\n",
    "\n",
    "print(\"Business Uçuşları:\")\n",
    "print(business_flights)\n",
    "\n",
    "print(\"\\nEconomy Uçuşları:\")\n",
    "print(economy_flights)"
   ]
  },
  {
   "cell_type": "code",
   "execution_count": null,
   "metadata": {},
   "outputs": [],
   "source": [
    "le = LabelEncoder()\n",
    "df['Class'] = le.fit_transform(df['Class'])\n",
    "print(df)\n"
   ]
  },
  {
   "cell_type": "code",
   "execution_count": 87,
   "metadata": {},
   "outputs": [],
   "source": [
    "def process_data(data):\n",
    "    # Burada data ile yapılacak işlemleri tanımlayın\n",
    "    # Örneğin, LabelEncoder ve get_dummies kullanma gibi işlemler\n",
    "    data['Class'] = pd.Categorical(data['Class'], categories=['Economy', 'Business'], ordered=True)\n",
    "    data['Class'] = data['Class'].cat.codes\n",
    "    data = pd.get_dummies(data, columns=['Class'])\n",
    "    return data\n",
    "\n",
    "# Örnek veri seti oluşturma\n",
    "data = {\n",
    "    'Flight Number': [0, 1, 2, 3, 4],\n",
    "    'Class': ['Economy', 'Economy', 'Economy', 'Business', 'Business'],\n",
    "    'Price': [5953, 5953, 5956, 5955, 5955]\n",
    "}\n",
    "\n",
    "df = pd.DataFrame(data)\n",
    "\n",
    "# CPU çekirdek sayısına uygun işlemci sayısı alınır\n",
    "num_processes = mp.cpu_count()\n",
    "\n",
    "# Veri setini parçalara bölme\n",
    "chunk_size = len(df) // num_processes\n",
    "data_chunks = np.array_split(df, num_processes)\n",
    "\n",
    "# Paralel işlem başlatma\n",
    "pool = mp.Pool(num_processes)\n",
    "results = pool.map(process_data, data_chunks)\n",
    "\n",
    "# Sonuçları birleştirme\n",
    "processed_data = pd.concat(results)\n",
    "print(processed_data)"
   ]
  },
  {
   "cell_type": "code",
   "execution_count": null,
   "metadata": {},
   "outputs": [],
   "source": [
    "chunk_size = 310000\n",
    "data_chunks = pd.read_csv('C:/Users/yigit/OneDrive/Belgeler/GitHub/FlightPricePrediction/FlightPricePrediction.csv', chunksize=chunk_size)\n",
    "\n",
    "\n",
    "\n",
    "for chunk in data_chunks:\n",
    "    num_processes = mp.cpu_count()\n",
    "\n",
    "# Veri setini parçalara bölme\n",
    "data_chunks = np.array_split(df, num_processes)\n",
    "\n",
    "# Paralel işlem başlatma\n",
    "pool = mp.Pool(num_processes)\n",
    "results = pool.map(process_data, data_chunks)\n",
    "\n",
    "# Sonuçları birleştirme\n",
    "processed_data = pd.concat(results)"
   ]
  }
 ],
 "metadata": {
  "kernelspec": {
   "display_name": "base",
   "language": "python",
   "name": "python3"
  },
  "language_info": {
   "codemirror_mode": {
    "name": "ipython",
    "version": 3
   },
   "file_extension": ".py",
   "mimetype": "text/x-python",
   "name": "python",
   "nbconvert_exporter": "python",
   "pygments_lexer": "ipython3",
   "version": "3.11.3"
  },
  "orig_nbformat": 4
 },
 "nbformat": 4,
 "nbformat_minor": 2
}
